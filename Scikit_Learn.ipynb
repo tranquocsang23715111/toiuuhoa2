{
 "cells": [
  {
   "cell_type": "markdown",
   "id": "0e832a48",
   "metadata": {},
   "source": [
    "Scikit-learning (Sklearn) là thư viện hữu ích và mạnh mẽ nhất để Machine Learning (học máy) bằng Python. Nó cung cấp một loạt các công cụ hiệu quả để học máy và mô hình thống kê bao gồm phân loại (classification), hồi quy (regression), phân cụm (clustering) và giảm kích thước (dimensionality reduction) thông qua giao diện nhất quán trong Python. Thư viện này, phần lớn được viết bằng Python, được xây dựng dựa trên NumPy, SciPy và Matplotlib."
   ]
  },
  {
   "cell_type": "markdown",
   "id": "ad6b4614",
   "metadata": {},
   "source": [
    "Điều kiện tiên quyết trước khi bắt đầu sử dụng bản phát hành mới nhất của scikit-learning:\n",
    "\n",
    "1) Python (> = 3.5)\n",
    "\n",
    "2) NumPy (> = 1.11.0)\n",
    "\n",
    "3) Scipy (> = 0,17,0) li\n",
    "\n",
    "4) Joblib (> = 0,11)\n",
    "\n",
    "5) Matplotlib (> = 1.5.1) là bắt buộc đối với khả năng vẽ sơ đồ của Sklearn.\n",
    "\n",
    "6) Pandas (> = 0.18.0) là bắt buộc đối với một số ví dụ scikit-learning sử dụng cấu trúc và phân tích dữ liệu."
   ]
  },
  {
   "cell_type": "markdown",
   "id": "44e335cb",
   "metadata": {},
   "source": [
    "**Cài đặt**\n",
    "Nếu bạn đã cài đặt NumPy và Scipy, sau đây là hai cách dễ nhất để cài đặt scikit-learning:\n",
    "\n",
    "Sử dụng pip\n",
    "\n",
    "pip install -U scikit-learning\n",
    "\n",
    "\n",
    "Sử dụng conda\n",
    "\n",
    "conda cài đặt scikit-learning"
   ]
  },
  {
   "cell_type": "markdown",
   "id": "36b852be",
   "metadata": {},
   "source": [
    "# Dataset Loading"
   ]
  },
  {
   "cell_type": "markdown",
   "id": "a7d4f0ef",
   "metadata": {},
   "source": [
    "Scikit-learning có một số bộ dữ liệu ví dụ như **iris** và **digits for classification** và **the Boston house prices** để khảo sát các phương pháp hồi quy."
   ]
  },
  {
   "cell_type": "markdown",
   "id": "5698ab1c",
   "metadata": {},
   "source": [
    "**Ví dụ:**\n",
    "Dưới đây là ví dụ tải dữ liệu iris:"
   ]
  },
  {
   "cell_type": "code",
   "execution_count": 1,
   "id": "81bf8346",
   "metadata": {},
   "outputs": [
    {
     "name": "stdout",
     "output_type": "stream",
     "text": [
      "Feature names: ['sepal length (cm)', 'sepal width (cm)', 'petal length (cm)', 'petal width (cm)']\n",
      "Target names: ['setosa' 'versicolor' 'virginica']\n",
      "\n",
      "First 10 rows of X:\n",
      " [[5.1 3.5 1.4 0.2]\n",
      " [4.9 3.  1.4 0.2]\n",
      " [4.7 3.2 1.3 0.2]\n",
      " [4.6 3.1 1.5 0.2]\n",
      " [5.  3.6 1.4 0.2]\n",
      " [5.4 3.9 1.7 0.4]\n",
      " [4.6 3.4 1.4 0.3]\n",
      " [5.  3.4 1.5 0.2]\n",
      " [4.4 2.9 1.4 0.2]\n",
      " [4.9 3.1 1.5 0.1]]\n"
     ]
    }
   ],
   "source": [
    "from sklearn.datasets import load_iris\n",
    "iris = load_iris()\n",
    "X = iris.data\n",
    "y = iris.target\n",
    "feature_names = iris.feature_names\n",
    "target_names = iris.target_names\n",
    "print(\"Feature names:\", feature_names)\n",
    "print(\"Target names:\", target_names)\n",
    "print(\"\\nFirst 10 rows of X:\\n\", X[:10])"
   ]
  },
  {
   "cell_type": "markdown",
   "id": "59e4c541",
   "metadata": {},
   "source": [
    "**Tách tập dữ liệu**\n",
    "\n",
    "Để kiểm tra tính chính xác của mô hình (model), chúng ta có thể tách tập dữ liệu thành hai phần riêng biệt dành cho huấn luyện (tranning set) và thử (testing test). Sử dụng tập huấn luyện để huấn luyện (train) mô hình và tập thử dùng để thử lại tính chính xác của mô hình. Sau đây chúng ta có thể tính toán mô hình đã dùng chính xác như thế nào."
   ]
  },
  {
   "cell_type": "markdown",
   "id": "0933416a",
   "metadata": {},
   "source": [
    "**Ví dụ**\n",
    "\n",
    "Ví dụ sau sẽ chia dữ liệu thành tỷ lệ 70:30, tức là 70% dữ liệu sẽ được sử dụng làm dữ liệu đào tạo và 30% sẽ được sử dụng làm dữ liệu thử nghiệm. Tập dữ liệu là tập dữ liệu **iris** như trong ví dụ trên."
   ]
  },
  {
   "cell_type": "code",
   "execution_count": 3,
   "id": "ad4aee14",
   "metadata": {},
   "outputs": [
    {
     "name": "stdout",
     "output_type": "stream",
     "text": [
      "(105, 4)\n",
      "(45, 4)\n",
      "(105,)\n",
      "(45,)\n"
     ]
    }
   ],
   "source": [
    "from sklearn.datasets import load_iris\n",
    "iris = load_iris()\n",
    "\n",
    "X = iris.data\n",
    "y = iris.target\n",
    "\n",
    "from sklearn.model_selection import train_test_split\n",
    "\n",
    "X_train, X_test, y_train, y_test = train_test_split(\n",
    "   X, y, test_size = 0.3, random_state = 1\n",
    ")\n",
    "\n",
    "print(X_train.shape)\n",
    "print(X_test.shape)\n",
    "\n",
    "print(y_train.shape)\n",
    "print(y_test.shape)"
   ]
  },
  {
   "cell_type": "markdown",
   "id": "a2ca3e24",
   "metadata": {},
   "source": [
    "Như đã thấy trong ví dụ trên, nó sử dụng hàm train_test_split() của scikit-learning để chia nhỏ tập dữ liệu. Hàm này có các đối số sau:\n",
    "\n",
    "**X, y** - Ở đây, X là ma trận đặc trưng (feature matrix) và y là vectơ phản hồi (response vector) cần được tách ra.\n",
    "\n",
    "**test_size** - Điều này đại diện cho tỷ lệ của dữ liệu thử nghiệm trên tổng số dữ liệu đã cho. Như trong ví dụ trên, chúng ta đang đặt test_data = 0,3 cho 150 hàng X. Nó sẽ tạo ra dữ liệu thử nghiệm là 150 * 0,3 = 45 hàng.\n",
    "\n",
    "**random_size** - Nó được sử dụng để đảm bảo rằng sự phân chia sẽ luôn giống nhau. Điều này rất hữu ích trong những trường hợp bạn muốn có kết quả có thể lặp lại."
   ]
  },
  {
   "cell_type": "markdown",
   "id": "0d2c8d50",
   "metadata": {},
   "source": [
    "# Train the Model"
   ]
  },
  {
   "cell_type": "markdown",
   "id": "b5e61207",
   "metadata": {},
   "source": [
    "Tiếp theo, chúng ta có thể sử dụng tập dữ liệu của mình để đào tạo một số mô hình dự đoán. Như đã thảo luận, scikit-learning có nhiều thuật toán Máy học (Machine Learning - ML) có giao diện nhất quán (consistent interface) để điều chỉnh, dự đoán độ chính xác (predicting accuracy), v.v."
   ]
  },
  {
   "cell_type": "markdown",
   "id": "8d48e2bd",
   "metadata": {},
   "source": [
    "**Ví dụ**\n",
    "\n",
    "Trong ví dụ dưới đây, chúng ta sẽ sử dụng bộ phân loại KNN (K nearest neighbors). Đừng đi vào chi tiết của các thuật toán KNN. Ví dụ này được sử dụng để giúp bạn chỉ hiểu phần triển khai."
   ]
  },
  {
   "cell_type": "code",
   "execution_count": 5,
   "id": "d5cf3b3f",
   "metadata": {},
   "outputs": [
    {
     "name": "stdout",
     "output_type": "stream",
     "text": [
      "Accuracy: 0.9833333333333333\n",
      "Predictions: ['versicolor', 'virginica']\n"
     ]
    }
   ],
   "source": [
    "from sklearn.datasets import load_iris\n",
    "iris = load_iris()\n",
    "X = iris.data\n",
    "y = iris.target\n",
    "from sklearn.model_selection import train_test_split\n",
    "X_train, X_test, y_train, y_test = train_test_split(\n",
    "   X, y, test_size = 0.4, random_state=1\n",
    ")\n",
    "from sklearn.neighbors import KNeighborsClassifier\n",
    "from sklearn import metrics\n",
    "classifier_knn = KNeighborsClassifier(n_neighbors = 3)\n",
    "classifier_knn.fit(X_train, y_train)\n",
    "y_pred = classifier_knn.predict(X_test)\n",
    "# Finding accuracy by comparing actual response values(y_test)with predicted response value(y_pred)\n",
    "print(\"Accuracy:\", metrics.accuracy_score(y_test, y_pred))\n",
    "# Providing sample data and the model will make prediction out of that data\n",
    "\n",
    "sample = [[5, 5, 3, 2], [2, 4, 3, 5]]\n",
    "preds = classifier_knn.predict(sample)\n",
    "pred_species = [iris.target_names[p] for p in preds] \n",
    "print(\"Predictions:\", pred_species)"
   ]
  },
  {
   "cell_type": "markdown",
   "id": "4bb0cb4a",
   "metadata": {},
   "source": [
    "# Scikit Learn - Introduction"
   ]
  },
  {
   "cell_type": "markdown",
   "id": "e5e4472b",
   "metadata": {},
   "source": [
    "Phần còn lại, các bạn sinh viên tự thực hành thông qua link dưới đây.\n",
    "\n",
    "https://www.tutorialspoint.com/scikit_learn/scikit_learn_quick_guide.htm"
   ]
  },
  {
   "cell_type": "code",
   "execution_count": null,
   "id": "f27d0f76",
   "metadata": {},
   "outputs": [],
   "source": []
  }
 ],
 "metadata": {
  "kernelspec": {
   "display_name": "Python 3 (ipykernel)",
   "language": "python",
   "name": "python3"
  },
  "language_info": {
   "codemirror_mode": {
    "name": "ipython",
    "version": 3
   },
   "file_extension": ".py",
   "mimetype": "text/x-python",
   "name": "python",
   "nbconvert_exporter": "python",
   "pygments_lexer": "ipython3",
   "version": "3.10.2"
  }
 },
 "nbformat": 4,
 "nbformat_minor": 5
}
