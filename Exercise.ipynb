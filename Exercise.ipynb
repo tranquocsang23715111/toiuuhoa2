{
 "cells": [
  {
   "cell_type": "markdown",
   "id": "ae4ecc5d",
   "metadata": {},
   "source": [
    "# Linear Regression with Python's Scikit-learn"
   ]
  },
  {
   "cell_type": "markdown",
   "id": "61bd5824",
   "metadata": {},
   "source": [
    "## Exploratory Data Analysis"
   ]
  },
  {
   "cell_type": "markdown",
   "id": "221b6346",
   "metadata": {},
   "source": [
    "Let's start with exploratory data analysis. You want to get to know your data first - this includes loading it in, visualizing features, exploring their relationships and making hypotheses based on your observations. The dataset is a CSV (comma-separated values) file, which contains the hours studied and the scores obtained based on those hours. We'll load the data into a **DataFrame** using Pandas:"
   ]
  },
  {
   "cell_type": "code",
   "execution_count": 1,
   "id": "218b54dc",
   "metadata": {},
   "outputs": [],
   "source": [
    "## TODO\n",
    "import pandas as pd\n",
    "import numpy as np\n",
    "import matplotlib.pyplot as plt\n",
    "import seaborn as sns\n",
    "from sklearn.linear_model import LinearRegression "
   ]
  },
  {
   "cell_type": "markdown",
   "id": "9b9c6d24",
   "metadata": {},
   "source": [
    "Let's read the **student_scores.csv** file and package it into a DataFrame:"
   ]
  },
  {
   "cell_type": "code",
   "execution_count": 2,
   "id": "802b5d33",
   "metadata": {},
   "outputs": [
    {
     "data": {
      "text/html": [
       "<div>\n",
       "<style scoped>\n",
       "    .dataframe tbody tr th:only-of-type {\n",
       "        vertical-align: middle;\n",
       "    }\n",
       "\n",
       "    .dataframe tbody tr th {\n",
       "        vertical-align: top;\n",
       "    }\n",
       "\n",
       "    .dataframe thead th {\n",
       "        text-align: right;\n",
       "    }\n",
       "</style>\n",
       "<table border=\"1\" class=\"dataframe\">\n",
       "  <thead>\n",
       "    <tr style=\"text-align: right;\">\n",
       "      <th></th>\n",
       "      <th>Hours</th>\n",
       "      <th>Scores</th>\n",
       "    </tr>\n",
       "  </thead>\n",
       "  <tbody>\n",
       "    <tr>\n",
       "      <th>0</th>\n",
       "      <td>2.5</td>\n",
       "      <td>21</td>\n",
       "    </tr>\n",
       "    <tr>\n",
       "      <th>1</th>\n",
       "      <td>5.1</td>\n",
       "      <td>47</td>\n",
       "    </tr>\n",
       "    <tr>\n",
       "      <th>2</th>\n",
       "      <td>3.2</td>\n",
       "      <td>27</td>\n",
       "    </tr>\n",
       "    <tr>\n",
       "      <th>3</th>\n",
       "      <td>8.5</td>\n",
       "      <td>75</td>\n",
       "    </tr>\n",
       "    <tr>\n",
       "      <th>4</th>\n",
       "      <td>3.5</td>\n",
       "      <td>30</td>\n",
       "    </tr>\n",
       "  </tbody>\n",
       "</table>\n",
       "</div>"
      ],
      "text/plain": [
       "   Hours  Scores\n",
       "0    2.5      21\n",
       "1    5.1      47\n",
       "2    3.2      27\n",
       "3    8.5      75\n",
       "4    3.5      30"
      ]
     },
     "execution_count": 2,
     "metadata": {},
     "output_type": "execute_result"
    }
   ],
   "source": [
    "## TODO\n",
    "df = pd.read_csv('datasets/student_scores.csv')\n"
   ]
  },
  {
   "cell_type": "markdown",
   "id": "e18909dc",
   "metadata": {},
   "source": [
    "Once the data is loaded in, let's take a quick peek at the first 5 values using the **head()** method:"
   ]
  },
  {
   "cell_type": "code",
   "execution_count": 3,
   "id": "bfe88ff0",
   "metadata": {},
   "outputs": [
    {
     "data": {
      "text/html": [
       "<div>\n",
       "<style scoped>\n",
       "    .dataframe tbody tr th:only-of-type {\n",
       "        vertical-align: middle;\n",
       "    }\n",
       "\n",
       "    .dataframe tbody tr th {\n",
       "        vertical-align: top;\n",
       "    }\n",
       "\n",
       "    .dataframe thead th {\n",
       "        text-align: right;\n",
       "    }\n",
       "</style>\n",
       "<table border=\"1\" class=\"dataframe\">\n",
       "  <thead>\n",
       "    <tr style=\"text-align: right;\">\n",
       "      <th></th>\n",
       "      <th>Hours</th>\n",
       "      <th>Scores</th>\n",
       "    </tr>\n",
       "  </thead>\n",
       "  <tbody>\n",
       "    <tr>\n",
       "      <th>0</th>\n",
       "      <td>2.5</td>\n",
       "      <td>21</td>\n",
       "    </tr>\n",
       "    <tr>\n",
       "      <th>1</th>\n",
       "      <td>5.1</td>\n",
       "      <td>47</td>\n",
       "    </tr>\n",
       "    <tr>\n",
       "      <th>2</th>\n",
       "      <td>3.2</td>\n",
       "      <td>27</td>\n",
       "    </tr>\n",
       "    <tr>\n",
       "      <th>3</th>\n",
       "      <td>8.5</td>\n",
       "      <td>75</td>\n",
       "    </tr>\n",
       "    <tr>\n",
       "      <th>4</th>\n",
       "      <td>3.5</td>\n",
       "      <td>30</td>\n",
       "    </tr>\n",
       "  </tbody>\n",
       "</table>\n",
       "</div>"
      ],
      "text/plain": [
       "   Hours  Scores\n",
       "0    2.5      21\n",
       "1    5.1      47\n",
       "2    3.2      27\n",
       "3    8.5      75\n",
       "4    3.5      30"
      ]
     },
     "execution_count": 3,
     "metadata": {},
     "output_type": "execute_result"
    }
   ],
   "source": [
    "## TODO\n",
    "df.head(5)"
   ]
  },
  {
   "cell_type": "markdown",
   "id": "5d4df9d8",
   "metadata": {},
   "source": [
    "The results should be:\n",
    "![linear_regression](img/1.png)"
   ]
  },
  {
   "cell_type": "markdown",
   "id": "704fe65d",
   "metadata": {},
   "source": [
    "We can also check the shape of our dataset via the **shape** property:"
   ]
  },
  {
   "cell_type": "code",
   "execution_count": 5,
   "id": "7f0cacfc",
   "metadata": {},
   "outputs": [
    {
     "data": {
      "text/plain": [
       "(25, 2)"
      ]
     },
     "execution_count": 5,
     "metadata": {},
     "output_type": "execute_result"
    }
   ],
   "source": [
    "## TODO\n",
    "df.shape"
   ]
  },
  {
   "cell_type": "markdown",
   "id": "b3508261",
   "metadata": {},
   "source": [
    "In essence, we're asking for the relationship between Hours and Scores. So, what's the relationship between these variables? We'll **plot the hours on the X-axis and scores on the Y-axis**, and for each pair, a marker will be positioned based on their values. X label is `Hours`, y title is `Scores` and the figure title is `Scatterplot of hours and scores percentages`."
   ]
  },
  {
   "cell_type": "code",
   "execution_count": 10,
   "id": "5cae9131",
   "metadata": {},
   "outputs": [
    {
     "data": {
      "image/png": "[encoded data removed]",
      "text/plain": [
       "<Figure size 1000x500 with 1 Axes>"
      ]
     },
     "metadata": {},
     "output_type": "display_data"
    }
   ],
   "source": [
    "# TODO\n",
    "plt.figure(figsize=(10,5))\n",
    "plt.scatter(x=df['Hours'],y = df['Scores'], marker = 'o')\n",
    "plt.show()"
   ]
  },
  {
   "cell_type": "markdown",
   "id": "0f05e4a0",
   "metadata": {},
   "source": [
    "This results in:\n",
    "\n",
    "![linear_regression](img/2.png)"
   ]
  },
  {
   "cell_type": "markdown",
   "id": "788a4ed4",
   "metadata": {},
   "source": [
    "The **corr()** method calculates and displays the correlations between numerical variables in a **DataFrame**:"
   ]
  },
  {
   "cell_type": "code",
   "execution_count": 11,
   "id": "0df561a3",
   "metadata": {},
   "outputs": [
    {
     "data": {
      "text/html": [
       "<div>\n",
       "<style scoped>\n",
       "    .dataframe tbody tr th:only-of-type {\n",
       "        vertical-align: middle;\n",
       "    }\n",
       "\n",
       "    .dataframe tbody tr th {\n",
       "        vertical-align: top;\n",
       "    }\n",
       "\n",
       "    .dataframe thead th {\n",
       "        text-align: right;\n",
       "    }\n",
       "</style>\n",
       "<table border=\"1\" class=\"dataframe\">\n",
       "  <thead>\n",
       "    <tr style=\"text-align: right;\">\n",
       "      <th></th>\n",
       "      <th>Hours</th>\n",
       "      <th>Scores</th>\n",
       "    </tr>\n",
       "  </thead>\n",
       "  <tbody>\n",
       "    <tr>\n",
       "      <th>Hours</th>\n",
       "      <td>1.000000</td>\n",
       "      <td>0.976191</td>\n",
       "    </tr>\n",
       "    <tr>\n",
       "      <th>Scores</th>\n",
       "      <td>0.976191</td>\n",
       "      <td>1.000000</td>\n",
       "    </tr>\n",
       "  </tbody>\n",
       "</table>\n",
       "</div>"
      ],
      "text/plain": [
       "           Hours    Scores\n",
       "Hours   1.000000  0.976191\n",
       "Scores  0.976191  1.000000"
      ]
     },
     "execution_count": 11,
     "metadata": {},
     "output_type": "execute_result"
    }
   ],
   "source": [
    "## TODO\n",
    "df.corr()"
   ]
  },
  {
   "cell_type": "markdown",
   "id": "4ad5f577",
   "metadata": {},
   "source": [
    "The results should be:\n",
    "\n",
    "![linear_regression](img/3.png)"
   ]
  },
  {
   "cell_type": "markdown",
   "id": "7d32c345",
   "metadata": {},
   "source": [
    "As the hours increase, so do the scores. There's a fairly high positive correlation here! Since the shape of the line the points are making appears to be straight - we say that there's a **positive linear correlation** between the Hours and Scores variables.\n",
    "\n",
    "However, in this table, the correlation between Scores and Hours is `0.97`. Anything above `0.8` is considered to be a strong positive correlation."
   ]
  },
  {
   "cell_type": "markdown",
   "id": "ef362f98",
   "metadata": {},
   "source": [
    "Pandas also ships with a great helper method for statistical summaries, and we can **describe()** the dataset to get an idea of the mean, maximum, minimum, etc. values of our columns:"
   ]
  },
  {
   "cell_type": "code",
   "execution_count": 12,
   "id": "e1f10f7f",
   "metadata": {},
   "outputs": [
    {
     "data": {
      "text/html": [
       "<div>\n",
       "<style scoped>\n",
       "    .dataframe tbody tr th:only-of-type {\n",
       "        vertical-align: middle;\n",
       "    }\n",
       "\n",
       "    .dataframe tbody tr th {\n",
       "        vertical-align: top;\n",
       "    }\n",
       "\n",
       "    .dataframe thead th {\n",
       "        text-align: right;\n",
       "    }\n",
       "</style>\n",
       "<table border=\"1\" class=\"dataframe\">\n",
       "  <thead>\n",
       "    <tr style=\"text-align: right;\">\n",
       "      <th></th>\n",
       "      <th>Hours</th>\n",
       "      <th>Scores</th>\n",
       "    </tr>\n",
       "  </thead>\n",
       "  <tbody>\n",
       "    <tr>\n",
       "      <th>count</th>\n",
       "      <td>25.000000</td>\n",
       "      <td>25.000000</td>\n",
       "    </tr>\n",
       "    <tr>\n",
       "      <th>mean</th>\n",
       "      <td>5.012000</td>\n",
       "      <td>51.480000</td>\n",
       "    </tr>\n",
       "    <tr>\n",
       "      <th>std</th>\n",
       "      <td>2.525094</td>\n",
       "      <td>25.286887</td>\n",
       "    </tr>\n",
       "    <tr>\n",
       "      <th>min</th>\n",
       "      <td>1.100000</td>\n",
       "      <td>17.000000</td>\n",
       "    </tr>\n",
       "    <tr>\n",
       "      <th>25%</th>\n",
       "      <td>2.700000</td>\n",
       "      <td>30.000000</td>\n",
       "    </tr>\n",
       "    <tr>\n",
       "      <th>50%</th>\n",
       "      <td>4.800000</td>\n",
       "      <td>47.000000</td>\n",
       "    </tr>\n",
       "    <tr>\n",
       "      <th>75%</th>\n",
       "      <td>7.400000</td>\n",
       "      <td>75.000000</td>\n",
       "    </tr>\n",
       "    <tr>\n",
       "      <th>max</th>\n",
       "      <td>9.200000</td>\n",
       "      <td>95.000000</td>\n",
       "    </tr>\n",
       "  </tbody>\n",
       "</table>\n",
       "</div>"
      ],
      "text/plain": [
       "           Hours     Scores\n",
       "count  25.000000  25.000000\n",
       "mean    5.012000  51.480000\n",
       "std     2.525094  25.286887\n",
       "min     1.100000  17.000000\n",
       "25%     2.700000  30.000000\n",
       "50%     4.800000  47.000000\n",
       "75%     7.400000  75.000000\n",
       "max     9.200000  95.000000"
      ]
     },
     "execution_count": 12,
     "metadata": {},
     "output_type": "execute_result"
    }
   ],
   "source": [
    "# TODO\n",
    "df.describe()\n"
   ]
  },
  {
   "cell_type": "markdown",
   "id": "0f9d7535",
   "metadata": {},
   "source": [
    "The results should be:\n",
    "\n",
    "![linear_regression](img/4.png)"
   ]
  },
  {
   "cell_type": "markdown",
   "id": "d585d282",
   "metadata": {},
   "source": [
    "## Data Preprocessing"
   ]
  },
  {
   "cell_type": "markdown",
   "id": "65c82965",
   "metadata": {},
   "source": [
    "To separate the target and features, we can attribute the dataframe column values to our `y` and `X` variables:"
   ]
  },
  {
   "cell_type": "code",
   "execution_count": 19,
   "id": "eaa52b47",
   "metadata": {},
   "outputs": [],
   "source": [
    "## TODO\n",
    "X = df[['Hours']]\n",
    "y = df[['Scores']]\n"
   ]
  },
  {
   "cell_type": "markdown",
   "id": "4ee74a0a",
   "metadata": {},
   "source": [
    "This is easily achieved through the helper **train_test_split()** method, which accepts our X and y arrays (also works on **DataFrames** and splits a single **DataFrame** into training and testing sets), and a `test_size`. The `test_size` is the percentage of the overall data we'll be using for testing:"
   ]
  },
  {
   "cell_type": "code",
   "execution_count": 46,
   "id": "147a4cd5",
   "metadata": {},
   "outputs": [],
   "source": [
    "## TODO\n",
    "from sklearn.model_selection import train_test_split\n",
    "# Use these variables: X_train, X_test, y_train, y_test \n",
    "# and test_size = 0.2, random_state = 99\n",
    "X_train, X_test, y_train, y_test = train_test_split(X,y,test_size=0.2, random_state=99)\n",
    "\n"
   ]
  },
  {
   "cell_type": "markdown",
   "id": "a6f44f86",
   "metadata": {},
   "source": [
    "Now, if you print your `X_train` array - you'll find the study hours, and `y_train` contains the score percentages:"
   ]
  },
  {
   "cell_type": "code",
   "execution_count": 47,
   "id": "4f5ab438",
   "metadata": {},
   "outputs": [
    {
     "name": "stdout",
     "output_type": "stream",
     "text": [
      "    Hours\n",
      "2     3.2\n",
      "19    7.4\n",
      "13    3.3\n",
      "6     9.2\n",
      "0     2.5\n",
      "11    5.9\n",
      "16    2.5\n",
      "15    8.9\n",
      "23    6.9\n",
      "14    1.1\n",
      "7     5.5\n",
      "24    7.8\n",
      "5     1.5\n",
      "4     3.5\n",
      "18    6.1\n",
      "22    3.8\n",
      "9     2.7\n",
      "8     8.3\n",
      "3     8.5\n",
      "1     5.1\n",
      "=======\n",
      "    Scores\n",
      "2       27\n",
      "19      69\n",
      "13      42\n",
      "6       88\n",
      "0       21\n",
      "11      62\n",
      "16      30\n",
      "15      95\n",
      "23      76\n",
      "14      17\n",
      "7       60\n",
      "24      86\n",
      "5       20\n",
      "4       30\n",
      "18      67\n",
      "22      35\n",
      "9       25\n",
      "8       81\n",
      "3       75\n",
      "1       47\n"
     ]
    }
   ],
   "source": [
    "## TODO\n",
    "print(X_train)\n",
    "print('=======')\n",
    "print(y_train)\n"
   ]
  },
  {
   "cell_type": "markdown",
   "id": "54eacb7d",
   "metadata": {},
   "source": [
    "## Training a Linear Regression Model"
   ]
  },
  {
   "cell_type": "markdown",
   "id": "0adc2a97",
   "metadata": {},
   "source": [
    "We have our train and test sets ready. Scikit-Learn has a plethora of model types we can easily import and train, **LinearRegression** being one of them:"
   ]
  },
  {
   "cell_type": "code",
   "execution_count": 48,
   "id": "d62f0311",
   "metadata": {},
   "outputs": [
    {
     "data": {
      "text/plain": [
       "[<matplotlib.lines.Line2D at 0x13755272d10>]"
      ]
     },
     "execution_count": 48,
     "metadata": {},
     "output_type": "execute_result"
    },
    {
     "data": {
      "image/png": "[encoded data removed]",
      "text/plain": [
       "<Figure size 640x480 with 1 Axes>"
      ]
     },
     "metadata": {},
     "output_type": "display_data"
    }
   ],
   "source": [
    "## TODO\n",
    "lm = LinearRegression()\n",
    "lm.fit(X_train,y_train)\n",
    "\n",
    "y_pred = lm.predict(X_test)\n",
    "\n",
    "plt.scatter(X_test, y_test, color='blue', label='Thực tế')\n",
    "plt.plot(X_test_sorted,y_pred_sorted,color = 'red')\n",
    "\n",
    "\n",
    "\n"
   ]
  },
  {
   "cell_type": "markdown",
   "id": "54566706",
   "metadata": {},
   "source": [
    "Now, we need to fit the line to our data, we will do that by using the **.fit()** method along with our `X_train` and `y_train` data:"
   ]
  },
  {
   "cell_type": "code",
   "execution_count": null,
   "id": "bbb17b27",
   "metadata": {},
   "outputs": [],
   "source": []
  },
  {
   "cell_type": "markdown",
   "id": "de4f3e2b",
   "metadata": {},
   "source": [
    "If no errors are thrown - the regressor found the best fitting line! The line is defined by our features and the intercept/slope. In fact, we can inspect the intercept and slope by printing the `regressor.intecept_` and `regressor.coef_` attributes, respectively:"
   ]
  },
  {
   "cell_type": "code",
   "execution_count": 49,
   "id": "2b88f26d",
   "metadata": {},
   "outputs": [
    {
     "name": "stdout",
     "output_type": "stream",
     "text": [
      "Intercept (hệ số chặn): [2.27166954]\n",
      "Coefficient (hệ số góc): [[9.71616788]]\n"
     ]
    }
   ],
   "source": [
    "## TODO\n",
    "\n",
    "print(\"Intercept (hệ số chặn):\", lm.intercept_)\n",
    "print(\"Coefficient (hệ số góc):\", lm.coef_)\n",
    "\n",
    "\n",
    "## ----> 2.82689235"
   ]
  },
  {
   "cell_type": "markdown",
   "id": "94db2d53",
   "metadata": {},
   "source": [
    "This can quite literally be plugged in into our formula from before:\n",
    "$$\\text{score}=9.68207815*\\text{hour}+2.82689235$$"
   ]
  },
  {
   "cell_type": "markdown",
   "id": "f33afe58",
   "metadata": {},
   "source": [
    "## Making Predictions\n",
    "\n",
    "To avoid running calculations ourselves, we could write our own formula that calculates the value:"
   ]
  },
  {
   "cell_type": "code",
   "execution_count": 51,
   "id": "6f015ab5",
   "metadata": {},
   "outputs": [
    {
     "name": "stdout",
     "output_type": "stream",
     "text": [
      "Dự đoán điểm số: [[50.85250894]]\n"
     ]
    }
   ],
   "source": [
    "## TODO\n",
    "# name of function will be 'calc' \n",
    "# with three inputs: slope, intercept, and hours\n",
    "# return with formula of linear regression\n",
    "\n",
    "# Hàm tính giá trị dự đoán theo công thức hồi quy tuyến tính\n",
    "def calc(slope, intercept, hours):\n",
    "    return intercept + slope * hours\n",
    "\n",
    "# Ví dụ minh họa\n",
    "slope = lm.coef_    # hệ số góc (coef)\n",
    "intercept = lm.intercept_  # hệ số chặn (intercept)\n",
    "hours = 5           # số giờ học\n",
    "\n",
    "print(\"Dự đoán điểm số:\", calc(slope, intercept, hours))\n"
   ]
  },
  {
   "cell_type": "markdown",
   "id": "fd9b6ee3",
   "metadata": {},
   "source": [
    "However - a much handier way to predict new values using our model is to call on the `predict()` function:"
   ]
  },
  {
   "cell_type": "code",
   "execution_count": 52,
   "id": "fe68d864",
   "metadata": {},
   "outputs": [
    {
     "name": "stderr",
     "output_type": "stream",
     "text": [
      "C:\\Users\\Asus\\anaconda3\\Lib\\site-packages\\sklearn\\base.py:439: UserWarning: X does not have valid feature names, but LinearRegression was fitted with feature names\n",
      "  warnings.warn(\n"
     ]
    },
    {
     "data": {
      "text/plain": [
       "array([[94.57526441]])"
      ]
     },
     "execution_count": 52,
     "metadata": {},
     "output_type": "execute_result"
    }
   ],
   "source": [
    "## TODO\n",
    "# call on the predict() form regression and print the result.\n",
    "# Note: Passing 9.5 in double brackets to have a 2 dimensional array\n",
    "result = lm.predict([[9.5]])\n",
    "result\n",
    "\n",
    "\n",
    "# 94.80663482"
   ]
  },
  {
   "cell_type": "markdown",
   "id": "50b64105",
   "metadata": {},
   "source": [
    "Our result is `94.80663482`, or approximately `95%`. Now we have a score percentage estimate for each and every hours we can think of. But can we trust those estimates? In the answer to that question is the reason why we split the data into train and test in the first place. Now we can predict using our test data and compare the predicted with our actual results - the **ground truth** results."
   ]
  },
  {
   "cell_type": "markdown",
   "id": "3a773171",
   "metadata": {},
   "source": [
    "To make predictions on the test data, we pass the `X_test` values to the **predict()** method. We can assign the results to the variable `y_pred`:"
   ]
  },
  {
   "cell_type": "code",
   "execution_count": 53,
   "id": "d5221ea9",
   "metadata": {},
   "outputs": [],
   "source": [
    "## TODO\n",
    "Y_pred = lm.predict(X_test)"
   ]
  },
  {
   "cell_type": "markdown",
   "id": "d774a34e",
   "metadata": {},
   "source": [
    "The `y_pred` variable now contains all the predicted values for the input values in the `X_test`. We can now compare the actual output values for `X_test` with the predicted values, by arranging them side by side in a dataframe structure:"
   ]
  },
  {
   "cell_type": "code",
   "execution_count": 54,
   "id": "bef9c597",
   "metadata": {},
   "outputs": [
    {
     "name": "stdout",
     "output_type": "stream",
     "text": [
      "    Actual  Predicted\n",
      "10      85  77.086162\n",
      "17      24  20.732389\n",
      "12      41  45.994425\n",
      "20      30  28.505323\n",
      "21      54  48.909275\n"
     ]
    }
   ],
   "source": [
    "df_preds = pd.DataFrame({'Actual': y_test.squeeze(), 'Predicted': y_pred.squeeze()})\n",
    "print(df_preds)"
   ]
  },
  {
   "cell_type": "markdown",
   "id": "291f2ba9",
   "metadata": {},
   "source": [
    "The output looks like this:\n",
    "![linear_regression](img/LR_4.png)"
   ]
  },
  {
   "cell_type": "markdown",
   "id": "c4000c2b",
   "metadata": {},
   "source": [
    "Though our model seems not to be very precise, the predicted percentages are close to the actual ones. Let's quantify the difference between the actual and predicted values to gain an objective view of how it's actually performing."
   ]
  },
  {
   "cell_type": "markdown",
   "id": "72df3148",
   "metadata": {},
   "source": [
    "## Evaluating the Model"
   ]
  },
  {
   "cell_type": "markdown",
   "id": "4c9a3fb5",
   "metadata": {},
   "source": [
    "After looking at the data, seeing a linear relationship, training and testing our model, we can understand how well it predicts by using some metrics. For regression models, three evaluation metrics are mainly used:"
   ]
  },
  {
   "cell_type": "markdown",
   "id": "3ff5cc78",
   "metadata": {},
   "source": [
    "1. **Mean Absolute Error (MAE)**: When we subtract the predicted values from the actual values, obtaining the errors, sum the absolute values of those errors and get their mean. This metric gives a notion of the overall error for each prediction of the model, the smaller (closer to 0) the better.\n",
    "$$\\displaystyle \\text{MAE}=\\dfrac{1}{n}\\sum_{i=1}^n\\left| \\text{Actual} - \\text{Predicted} \\right|$$\n",
    "2. **Mean Squared Error (MSE)**: It is similar to the MAE metric, but it squares the absolute values of the errors. Also, as with MAE, the smaller, or closer to 0, the better. The MSE value is squared so as to make large errors even larger. One thing to pay close attention to, it that it is usually a hard metric to interpret due to the size of its values and of the fact that they aren't in the same scale of the data.\n",
    "$$\\displaystyle \\text{MSE}=\\sum_{i=1}^n\\left( \\text{Actual} - \\text{Predicted} \\right)^2$$\n",
    "3. **Root Mean Squared Error (RMSE)**: Tries to solve the interpretation problem raised with the MSE by getting the square root of its final value, so as to scale it back to the same units of the data. It is easier to interpret and good when we need to display or show the actual value of the data with the error.\n",
    "$$\\displaystyle \\text{RMSE}=\\sqrt{\\sum_{i=1}^n\\left( \\text{Actual} - \\text{Predicted} \\right)^2}$$"
   ]
  },
  {
   "cell_type": "markdown",
   "id": "7b995a19",
   "metadata": {},
   "source": [
    "Luckily, we don't have to do any of the metrics calculations manually. The Scikit-Learn package already comes with functions that can be used to find out the values of these metrics for us. Let's find the values for these metrics using our test data. First, we will import the necessary modules for calculating the MAE and MSE errors. Respectively, the `mean_absolute_error` and `mean_squared_error`:"
   ]
  },
  {
   "cell_type": "code",
   "execution_count": 55,
   "id": "e7ff5cff",
   "metadata": {},
   "outputs": [],
   "source": [
    "from sklearn.metrics import mean_absolute_error, mean_squared_error"
   ]
  },
  {
   "cell_type": "markdown",
   "id": "5fba9b09",
   "metadata": {},
   "source": [
    "Now, we can calculate the MAE and MSE by passing the `y_test` (actual) and `y_pred` (predicted) to the methods. The RMSE can be calculated by taking the square root of the MSE, to to that, we will use NumPy's sqrt() method:"
   ]
  },
  {
   "cell_type": "code",
   "execution_count": 60,
   "id": "08cd7589",
   "metadata": {},
   "outputs": [
    {
     "name": "stdout",
     "output_type": "stream",
     "text": [
      "mae=  4.552255217898516\n",
      "mse =  25.279986303438385\n",
      "rmse =  5.02792067394051\n"
     ]
    }
   ],
   "source": [
    "import numpy as np\n",
    "import math# TODO\n",
    "mae = mean_absolute_error(y_test,Y_pred)\n",
    "print('mae= ',mae)\n",
    "mse = mean_squared_error(y_test,Y_pred)\n",
    "print('mse = ',mse)\n",
    "\n",
    "rmse = math.sqrt(mse)\n",
    "print('rmse = ',rmse)"
   ]
  },
  {
   "cell_type": "markdown",
   "id": "bd905964",
   "metadata": {},
   "source": [
    "We will also print the metrics results using the `f` string and the 2 digit precision after the comma with `:.2f`:"
   ]
  },
  {
   "cell_type": "code",
   "execution_count": 23,
   "id": "18741f77",
   "metadata": {},
   "outputs": [],
   "source": [
    "# TODO\n",
    "\n"
   ]
  },
  {
   "cell_type": "markdown",
   "id": "f872b35a",
   "metadata": {},
   "source": [
    "The result should be:\n",
    "The output looks like this:\n",
    "![linear_regression](img/5.png)"
   ]
  },
  {
   "cell_type": "markdown",
   "id": "54d4beb1",
   "metadata": {},
   "source": [
    "# Multiple Linear Regression\n",
    "\n",
    "Until this point, we have predicted a value with linear regression using only one variable. There is a different scenario that we can consider, where we can predict using many variables instead of one, and this is also a much more common scenario in real life, where many things can affect some result. In a case like this, when it makes sense to use multiple variables, linear regression becomes a **multiple linear regression**."
   ]
  },
  {
   "cell_type": "markdown",
   "id": "fe8aa224",
   "metadata": {},
   "source": [
    "## Exploratory Data Analysis\n",
    "\n",
    "Following what we did with the linear regression, we will also want to know our data before applying multiple linear regression. First, we can import the data with pandas **read_csv()** method for `petrol_consumption.csv` datasets:"
   ]
  },
  {
   "cell_type": "code",
   "execution_count": 68,
   "id": "576867d7",
   "metadata": {},
   "outputs": [],
   "source": [
    "# TODO\n",
    "df = pd.read_csv('datasets/petrol_consumption.csv')"
   ]
  },
  {
   "cell_type": "markdown",
   "id": "44f7ce10",
   "metadata": {},
   "source": [
    "We can now take a look at the first five rows with `df.head()` and  how many rows and columns our data has with `shape`:"
   ]
  },
  {
   "cell_type": "code",
   "execution_count": 63,
   "id": "21c13b0a",
   "metadata": {},
   "outputs": [
    {
     "data": {
      "text/html": [
       "<div>\n",
       "<style scoped>\n",
       "    .dataframe tbody tr th:only-of-type {\n",
       "        vertical-align: middle;\n",
       "    }\n",
       "\n",
       "    .dataframe tbody tr th {\n",
       "        vertical-align: top;\n",
       "    }\n",
       "\n",
       "    .dataframe thead th {\n",
       "        text-align: right;\n",
       "    }\n",
       "</style>\n",
       "<table border=\"1\" class=\"dataframe\">\n",
       "  <thead>\n",
       "    <tr style=\"text-align: right;\">\n",
       "      <th></th>\n",
       "      <th>Petrol_tax</th>\n",
       "      <th>Average_income</th>\n",
       "      <th>Paved_Highways</th>\n",
       "      <th>Population_Driver_licence(%)</th>\n",
       "      <th>Petrol_Consumption</th>\n",
       "    </tr>\n",
       "  </thead>\n",
       "  <tbody>\n",
       "    <tr>\n",
       "      <th>0</th>\n",
       "      <td>9.0</td>\n",
       "      <td>3571</td>\n",
       "      <td>1976</td>\n",
       "      <td>0.525</td>\n",
       "      <td>541</td>\n",
       "    </tr>\n",
       "    <tr>\n",
       "      <th>1</th>\n",
       "      <td>9.0</td>\n",
       "      <td>4092</td>\n",
       "      <td>1250</td>\n",
       "      <td>0.572</td>\n",
       "      <td>524</td>\n",
       "    </tr>\n",
       "    <tr>\n",
       "      <th>2</th>\n",
       "      <td>9.0</td>\n",
       "      <td>3865</td>\n",
       "      <td>1586</td>\n",
       "      <td>0.580</td>\n",
       "      <td>561</td>\n",
       "    </tr>\n",
       "    <tr>\n",
       "      <th>3</th>\n",
       "      <td>7.5</td>\n",
       "      <td>4870</td>\n",
       "      <td>2351</td>\n",
       "      <td>0.529</td>\n",
       "      <td>414</td>\n",
       "    </tr>\n",
       "    <tr>\n",
       "      <th>4</th>\n",
       "      <td>8.0</td>\n",
       "      <td>4399</td>\n",
       "      <td>431</td>\n",
       "      <td>0.544</td>\n",
       "      <td>410</td>\n",
       "    </tr>\n",
       "  </tbody>\n",
       "</table>\n",
       "</div>"
      ],
      "text/plain": [
       "   Petrol_tax  Average_income  Paved_Highways  Population_Driver_licence(%)  \\\n",
       "0         9.0            3571            1976                         0.525   \n",
       "1         9.0            4092            1250                         0.572   \n",
       "2         9.0            3865            1586                         0.580   \n",
       "3         7.5            4870            2351                         0.529   \n",
       "4         8.0            4399             431                         0.544   \n",
       "\n",
       "   Petrol_Consumption  \n",
       "0                 541  \n",
       "1                 524  \n",
       "2                 561  \n",
       "3                 414  \n",
       "4                 410  "
      ]
     },
     "execution_count": 63,
     "metadata": {},
     "output_type": "execute_result"
    }
   ],
   "source": [
    "# TODO\n",
    "df.head()\n"
   ]
  },
  {
   "cell_type": "markdown",
   "id": "dceb7134",
   "metadata": {},
   "source": [
    "This results in:\n",
    "\n",
    "![linear_regression](img/6.png)"
   ]
  },
  {
   "cell_type": "markdown",
   "id": "9ebd87fa",
   "metadata": {},
   "source": [
    "This time, we will facilitate the comparison of the statistics by rounding up the values to two decimals with the `round()` method, and transposing the table with the `T` property:"
   ]
  },
  {
   "cell_type": "code",
   "execution_count": 78,
   "id": "57f6ceb1",
   "metadata": {},
   "outputs": [
    {
     "data": {
      "text/html": [
       "<div>\n",
       "<style scoped>\n",
       "    .dataframe tbody tr th:only-of-type {\n",
       "        vertical-align: middle;\n",
       "    }\n",
       "\n",
       "    .dataframe tbody tr th {\n",
       "        vertical-align: top;\n",
       "    }\n",
       "\n",
       "    .dataframe thead th {\n",
       "        text-align: right;\n",
       "    }\n",
       "</style>\n",
       "<table border=\"1\" class=\"dataframe\">\n",
       "  <thead>\n",
       "    <tr style=\"text-align: right;\">\n",
       "      <th></th>\n",
       "      <th>count</th>\n",
       "      <th>mean</th>\n",
       "      <th>std</th>\n",
       "      <th>min</th>\n",
       "      <th>25%</th>\n",
       "      <th>50%</th>\n",
       "      <th>75%</th>\n",
       "      <th>max</th>\n",
       "    </tr>\n",
       "  </thead>\n",
       "  <tbody>\n",
       "    <tr>\n",
       "      <th>Petrol_tax</th>\n",
       "      <td>48.0</td>\n",
       "      <td>7.67</td>\n",
       "      <td>0.95</td>\n",
       "      <td>5.00</td>\n",
       "      <td>7.00</td>\n",
       "      <td>7.50</td>\n",
       "      <td>8.12</td>\n",
       "      <td>10.00</td>\n",
       "    </tr>\n",
       "    <tr>\n",
       "      <th>Average_income</th>\n",
       "      <td>48.0</td>\n",
       "      <td>4241.83</td>\n",
       "      <td>573.62</td>\n",
       "      <td>3063.00</td>\n",
       "      <td>3739.00</td>\n",
       "      <td>4298.00</td>\n",
       "      <td>4578.75</td>\n",
       "      <td>5342.00</td>\n",
       "    </tr>\n",
       "    <tr>\n",
       "      <th>Paved_Highways</th>\n",
       "      <td>48.0</td>\n",
       "      <td>5565.42</td>\n",
       "      <td>3491.51</td>\n",
       "      <td>431.00</td>\n",
       "      <td>3110.25</td>\n",
       "      <td>4735.50</td>\n",
       "      <td>7156.00</td>\n",
       "      <td>17782.00</td>\n",
       "    </tr>\n",
       "    <tr>\n",
       "      <th>Population_Driver_licence(%)</th>\n",
       "      <td>48.0</td>\n",
       "      <td>0.57</td>\n",
       "      <td>0.06</td>\n",
       "      <td>0.45</td>\n",
       "      <td>0.53</td>\n",
       "      <td>0.56</td>\n",
       "      <td>0.60</td>\n",
       "      <td>0.72</td>\n",
       "    </tr>\n",
       "    <tr>\n",
       "      <th>Petrol_Consumption</th>\n",
       "      <td>48.0</td>\n",
       "      <td>576.77</td>\n",
       "      <td>111.89</td>\n",
       "      <td>344.00</td>\n",
       "      <td>509.50</td>\n",
       "      <td>568.50</td>\n",
       "      <td>632.75</td>\n",
       "      <td>968.00</td>\n",
       "    </tr>\n",
       "  </tbody>\n",
       "</table>\n",
       "</div>"
      ],
      "text/plain": [
       "                              count     mean      std      min      25%  \\\n",
       "Petrol_tax                     48.0     7.67     0.95     5.00     7.00   \n",
       "Average_income                 48.0  4241.83   573.62  3063.00  3739.00   \n",
       "Paved_Highways                 48.0  5565.42  3491.51   431.00  3110.25   \n",
       "Population_Driver_licence(%)   48.0     0.57     0.06     0.45     0.53   \n",
       "Petrol_Consumption             48.0   576.77   111.89   344.00   509.50   \n",
       "\n",
       "                                  50%      75%       max  \n",
       "Petrol_tax                       7.50     8.12     10.00  \n",
       "Average_income                4298.00  4578.75   5342.00  \n",
       "Paved_Highways                4735.50  7156.00  17782.00  \n",
       "Population_Driver_licence(%)     0.56     0.60      0.72  \n",
       "Petrol_Consumption             568.50   632.75    968.00  "
      ]
     },
     "execution_count": 78,
     "metadata": {},
     "output_type": "execute_result"
    }
   ],
   "source": [
    "# TODO\n",
    "df.describe().round(2).T"
   ]
  },
  {
   "cell_type": "markdown",
   "id": "c533740b",
   "metadata": {},
   "source": [
    "Our table is now column-wide instead of being row-wide:\n",
    "![linear_regression](img/MLR_1.png)"
   ]
  },
  {
   "cell_type": "markdown",
   "id": "354d4557",
   "metadata": {},
   "source": [
    "By looking at the min and max columns of the describe table, we see that the minimum value in our data is `0.45`, and the maximum value is `17,782`. This means that our data range is `17,781.55` (`17,782 - 0.45 = 17,781.55`), very wide - which implies our data variability is also high.\n",
    "\n",
    "Also, by comparing the values of the mean and std columns, such as `7.67` and `0.95`, `4241.83` and `573.62`, etc., we can see that the means are really far from the standard deviations. That implies our data is far from the mean, decentralized - which also adds to the variability.\n",
    "\n",
    "Another example of a coefficient being the same between differing relationships is Pearson Correlation (which checks for **linear correlation**):\n",
    "![linear_regression](img/MLR_2.png)"
   ]
  },
  {
   "cell_type": "markdown",
   "id": "8ca19092",
   "metadata": {},
   "source": [
    "This time, we will use **Seaborn**, an extension of Matplotlib which Pandas uses under the hood when plotting:"
   ]
  },
  {
   "cell_type": "code",
   "execution_count": null,
   "id": "6a063a38",
   "metadata": {},
   "outputs": [],
   "source": [
    "!pip install seaborn"
   ]
  },
  {
   "cell_type": "code",
   "execution_count": 86,
   "id": "37b074e9-3fe7-4e8b-9de4-66d4e57624fc",
   "metadata": {},
   "outputs": [
    {
     "data": {
      "image/png": "[encoded data removed]",
      "text/plain": [
       "<Figure size 640x480 with 1 Axes>"
      ]
     },
     "metadata": {},
     "output_type": "display_data"
    },
    {
     "data": {
      "image/png": "[encoded data removed]",
      "text/plain": [
       "<Figure size 640x480 with 1 Axes>"
      ]
     },
     "metadata": {},
     "output_type": "display_data"
    },
    {
     "data": {
      "image/png": "[encoded data removed]",
      "text/plain": [
       "<Figure size 640x480 with 1 Axes>"
      ]
     },
     "metadata": {},
     "output_type": "display_data"
    },
    {
     "data": {
      "image/png": "[encoded data removed]",
      "text/plain": [
       "<Figure size 640x480 with 1 Axes>"
      ]
     },
     "metadata": {},
     "output_type": "display_data"
    }
   ],
   "source": [
    "features = ['Petrol_tax', 'Average_income', 'Paved_Highways', 'Population_Driver_licence(%)']\n",
    "for col in features:\n",
    "    plt.scatter(df[col],df['Petrol_Consumption'])\n",
    "    sns.regplot(x=df[col],y=df['Petrol_Consumption'])\n",
    "    plt.show()"
   ]
  },
  {
   "cell_type": "code",
   "execution_count": 35,
   "id": "844034f6",
   "metadata": {},
   "outputs": [
    {
     "data": {
      "image/png": "[encoded data removed]",
      "text/plain": [
       "<Figure size 432x288 with 1 Axes>"
      ]
     },
     "metadata": {
      "needs_background": "light"
     },
     "output_type": "display_data"
    },
    {
     "data": {
      "image/png": "[encoded data removed]",
      "text/plain": [
       "<Figure size 432x288 with 1 Axes>"
      ]
     },
     "metadata": {
      "needs_background": "light"
     },
     "output_type": "display_data"
    },
    {
     "data": {
      "image/png": "[encoded data removed]",
      "text/plain": [
       "<Figure size 432x288 with 1 Axes>"
      ]
     },
     "metadata": {
      "needs_background": "light"
     },
     "output_type": "display_data"
    },
    {
     "data": {
      "image/png": "[encoded data removed]",
      "text/plain": [
       "<Figure size 432x288 with 1 Axes>"
      ]
     },
     "metadata": {
      "needs_background": "light"
     },
     "output_type": "display_data"
    }
   ],
   "source": [
    "# TODO\n"
   ]
  },
  {
   "cell_type": "markdown",
   "id": "2ea22069",
   "metadata": {},
   "source": [
    "When looking at the regplots, it seems the `Petrol_tax` and `Average_income` have a weak negative linear relationship with `Petrol_Consumption`. It also seems that the `Population_Driver_license(%)` has a strong positive linear relationship with `Petrol_Consumption`, and that the `Paved_Highways` variable has no relationship with `Petrol_Consumption`.\n",
    "\n",
    "We can also calculate the correlation of the new variables, this time using Seaborn's `heatmap()` to help us spot the strongest and weaker correlations based on warmer (reds) and cooler (blues) tones:"
   ]
  },
  {
   "cell_type": "code",
   "execution_count": 94,
   "id": "76ea96a6",
   "metadata": {},
   "outputs": [
    {
     "data": {
      "text/plain": [
       "<Axes: >"
      ]
     },
     "execution_count": 94,
     "metadata": {},
     "output_type": "execute_result"
    },
    {
     "data": {
      "image/png": "[encoded data removed]",
      "text/plain": [
       "<Figure size 640x480 with 2 Axes>"
      ]
     },
     "metadata": {},
     "output_type": "display_data"
    }
   ],
   "source": [
    "correlations = df.corr()\n",
    "# annot=True displays the correlation values\n",
    "sns.heatmap(correlations)\n"
   ]
  },
  {
   "cell_type": "markdown",
   "id": "192222e1",
   "metadata": {},
   "source": [
    "Result:\n",
    "![linear_regression](img/7.png)"
   ]
  },
  {
   "cell_type": "markdown",
   "id": "0ec04755",
   "metadata": {},
   "source": [
    "It seems that the heatmap corroborates our previous analysis! `Petrol_tax` and `Average_income` have a weak negative linear relationship of, respectively, `-0.45` and `-0.24` with `Petrol_Consumption`. `Population_Driver_license(%)` has a strong positive linear relationship of `0.7` with `Petrol_Consumption`, and `Paved_Highways` correlation is of `0.019` - which indicates no relationship with `Petrol_Consumption`."
   ]
  },
  {
   "cell_type": "markdown",
   "id": "a0d8201c",
   "metadata": {},
   "source": [
    "Another important thing to notice in the regplots is that there are some points really far off from where most points concentrate, we were already expecting something like that after the big difference between the mean and std columns - those points might be data outliers and extreme values.\n",
    "\n",
    "![linear_regression](img/MLR_3.png)\n",
    "\n",
    "The multiple linear regression formula is basically an extension of the linear regression formula with more slope values:\n",
    "$$y=b_0+b_1*x_1+b_2*x_2+...++b_n*x_n+\\epsilon$$"
   ]
  },
  {
   "cell_type": "markdown",
   "id": "102eddd7",
   "metadata": {},
   "source": [
    "We have learned a lot about linear models and exploratory data analysis, now it's time to use the `Average_income`, `Paved_Highways`, `Population_Driver_license(%)` and `Petrol_tax` as independent variables of our model and see what happens."
   ]
  },
  {
   "cell_type": "markdown",
   "id": "02d965b0",
   "metadata": {},
   "source": [
    "## Preparing the Data"
   ]
  },
  {
   "cell_type": "markdown",
   "id": "116df5cb",
   "metadata": {},
   "source": [
    "We can use double brackets `[[ ]]` to select them from the dataframe:"
   ]
  },
  {
   "cell_type": "code",
   "execution_count": 95,
   "id": "8a6f8d14",
   "metadata": {},
   "outputs": [],
   "source": [
    "y = df['Petrol_Consumption']\n",
    "X = df[['Average_income', 'Paved_Highways',\n",
    "       'Population_Driver_licence(%)', 'Petrol_tax']]"
   ]
  },
  {
   "cell_type": "markdown",
   "id": "998b4b91",
   "metadata": {},
   "source": [
    "After setting our `X` and `y` sets, we can divide our data into train and test sets. We will be using the same seed and `20%` of our data for training:"
   ]
  },
  {
   "cell_type": "code",
   "execution_count": 96,
   "id": "a3ff7298",
   "metadata": {},
   "outputs": [
    {
     "name": "stdout",
     "output_type": "stream",
     "text": [
      "Kích thước X_train: (38, 4)\n",
      "Kích thước X_test: (10, 4)\n",
      "Kích thước y_train: (38,)\n",
      "Kích thước y_test: (10,)\n"
     ]
    }
   ],
   "source": [
    "# TODO\n",
    "from sklearn.model_selection import train_test_split\n",
    "\n",
    "# Tách dữ liệu thành train và test (80% train, 20% test)\n",
    "X_train, X_test, y_train, y_test = train_test_split(X, y, test_size=0.2, random_state=99)\n",
    "\n",
    "print(\"Kích thước X_train:\", X_train.shape)\n",
    "print(\"Kích thước X_test:\", X_test.shape)\n",
    "print(\"Kích thước y_train:\", y_train.shape)\n",
    "print(\"Kích thước y_test:\", y_test.shape)\n",
    "\n"
   ]
  },
  {
   "cell_type": "markdown",
   "id": "dae1c636",
   "metadata": {},
   "source": [
    "## Training the Multivariate Model"
   ]
  },
  {
   "cell_type": "markdown",
   "id": "08bef903",
   "metadata": {},
   "source": [
    "To train our model we can execute the same code as before, and use the **fit()** method of the LinearRegression class, then use `regressor.intercept_` and `regressor.coef_`:"
   ]
  },
  {
   "cell_type": "code",
   "execution_count": 102,
   "id": "a582a8ef",
   "metadata": {},
   "outputs": [],
   "source": [
    "# TODO\n",
    "from sklearn.linear_model import LinearRegression\n",
    "lm = LinearRegression()\n",
    "model = lm.fit(X_train,y_train)\n"
   ]
  },
  {
   "cell_type": "markdown",
   "id": "76e2e720",
   "metadata": {},
   "source": [
    "Those four values are the coefficients for each of our features in the same order as we have them in our `X` data. To see a list with their names, we can use the dataframe `columns` attribute:"
   ]
  },
  {
   "cell_type": "code",
   "execution_count": 101,
   "id": "d035aa87",
   "metadata": {},
   "outputs": [
    {
     "data": {
      "text/plain": [
       "Index(['Average_income', 'Paved_Highways', 'Population_Driver_licence(%)',\n",
       "       'Petrol_tax'],\n",
       "      dtype='object')"
      ]
     },
     "execution_count": 101,
     "metadata": {},
     "output_type": "execute_result"
    }
   ],
   "source": [
    "feature_names = X.columns\n",
    "feature_names"
   ]
  },
  {
   "cell_type": "markdown",
   "id": "c3c4c553",
   "metadata": {},
   "source": [
    "To do that, we can assign our column names to a `feature_names` variable, and our coefficients to a `model_coefficients` variable. After that, we can create a dataframe with our features as an index and our coefficients as column values called `coefficients_df`:"
   ]
  },
  {
   "cell_type": "code",
   "execution_count": 105,
   "id": "9c8dbb80",
   "metadata": {},
   "outputs": [
    {
     "name": "stdout",
     "output_type": "stream",
     "text": [
      "hệ số chặn:  368.0492213130388\n",
      "                                     coef\n",
      "Average_income                  -0.066995\n",
      "Paved_Highways                  -0.003397\n",
      "Population_Driver_licence(%)  1359.767146\n",
      "Petrol_tax                     -34.265079\n"
     ]
    }
   ],
   "source": [
    "# TODO\n",
    "intercept = lm.intercept_\n",
    "coef = lm.coef_\n",
    "\n",
    "coefficients_df = pd.DataFrame(coef,index=feature_names,columns=['coef'])\n",
    "\n",
    "print('hệ số chặn: ',intercept)\n",
    "print(coefficients_df)\n",
    "# regressor.intercept_ -> 361.45087906668397\n",
    "# regressor.coef_ -> [-5.65355145e-02, -4.38217137e-03,  1.34686930e+03, -3.69937459e+01]"
   ]
  },
  {
   "cell_type": "markdown",
   "id": "ab24ff78",
   "metadata": {},
   "source": [
    "The final `DataFrame` should look like this:\n",
    "\n",
    "![linear_regression](img/MLR_4.png)"
   ]
  },
  {
   "cell_type": "markdown",
   "id": "b27323bd",
   "metadata": {},
   "source": [
    "## Making Predictions with the Multivariate Regression Model"
   ]
  },
  {
   "cell_type": "markdown",
   "id": "538bd529",
   "metadata": {},
   "source": [
    "To understand if and how our model is making mistakes, we can predict the gas consumption using our test data and then look at our metrics to be able to tell how well our model is behaving.\n",
    "\n",
    "In the same way we had done for the simple regression model, let's predict with the test data:"
   ]
  },
  {
   "cell_type": "code",
   "execution_count": 39,
   "id": "308396b2",
   "metadata": {},
   "outputs": [],
   "source": [
    "# TODO\n",
    "\n"
   ]
  },
  {
   "cell_type": "markdown",
   "id": "1473c2b3",
   "metadata": {},
   "source": [
    "Now, that we have our test predictions, we can better compare them with the actual output values for `X_test` by organizing them in a `DataFrameformat`:"
   ]
  },
  {
   "cell_type": "code",
   "execution_count": 40,
   "id": "a1ad0231",
   "metadata": {},
   "outputs": [],
   "source": [
    "# TODO\n",
    "\n"
   ]
  },
  {
   "cell_type": "markdown",
   "id": "3cc70f62",
   "metadata": {},
   "source": [
    "The output should look like this:\n",
    "    \n",
    "![linear_regression](img/MLR_5.png)"
   ]
  },
  {
   "cell_type": "markdown",
   "id": "d946ef9c",
   "metadata": {},
   "source": [
    "## Evaluating the Multivariate Model"
   ]
  },
  {
   "cell_type": "markdown",
   "id": "be9825d5",
   "metadata": {},
   "source": [
    "After exploring, training and looking at our model predictions - our final step is to evaluate the performance of our multiple linear regression. We want to understand if our predicted values are too far from our actual values. We'll do this in the same way we had previously done, by calculating the **MAE, MSE and RMSE** metrics.\n",
    "\n",
    "So, let's execute the following code:"
   ]
  },
  {
   "cell_type": "code",
   "execution_count": 42,
   "id": "0712c726",
   "metadata": {},
   "outputs": [],
   "source": [
    "# TODO\n",
    "\n",
    "\n"
   ]
  },
  {
   "cell_type": "markdown",
   "id": "88907147",
   "metadata": {},
   "source": [
    "The output of our metrics should be:\n",
    "\n",
    "![Multivariate Model](img/8.png)"
   ]
  },
  {
   "cell_type": "markdown",
   "id": "e57b004c",
   "metadata": {},
   "source": [
    "To dig further into what is happening to our model, we can look at a metric that measures the model in a different way, it doesn't consider our individual data values such as MSE, RMSE and MAE, but takes a more general approach to the error:\n",
    "$$R^2=1-\\dfrac{\\sum\\left( \\text{Actual}-\\text{Predicted} \\right)^2}{\\sum\\left( \\text{Actual}-\\text{Actual Mean} \\right)^2}$$\n",
    "\n",
    "In other words, $R^2$ quantifies how much of the variance of the dependent variable is being explained by the model.\n",
    "\n",
    "The $R^2$ metric varies from 0% to 100%. The closer to 100%, the better. If the $R^2$ value is negative, it means it doesn't explain the target at all.\n",
    "\n",
    "We can calculate $R^2$ in Python to get a better understanding of how it works:\n"
   ]
  },
  {
   "cell_type": "code",
   "execution_count": 43,
   "id": "24ca268c",
   "metadata": {},
   "outputs": [],
   "source": [
    "# TODO\n",
    "\n"
   ]
  },
  {
   "cell_type": "markdown",
   "id": "f76e3205",
   "metadata": {},
   "source": [
    "$R^2$ also comes implemented by default into the `score` method of Scikit-Learn's linear regressor class. We can calculate it like this:"
   ]
  },
  {
   "cell_type": "code",
   "execution_count": 107,
   "id": "f1bf67c8",
   "metadata": {
    "scrolled": true
   },
   "outputs": [
    {
     "data": {
      "text/plain": [
       "0.7432032842941994"
      ]
     },
     "execution_count": 107,
     "metadata": {},
     "output_type": "execute_result"
    }
   ],
   "source": [
    "lm.score(X_test, y_test)\n",
    "# -> 0.39136640014305457"
   ]
  },
  {
   "cell_type": "markdown",
   "id": "48696c7d",
   "metadata": {},
   "source": [
    "So far, it seems that our current model explains only `39%` of our test data which is not a good result, it means it leaves `61%` of the test data unexplained.\n",
    "\n",
    "Let's also understand how much our model explains of our train data:"
   ]
  },
  {
   "cell_type": "code",
   "execution_count": 106,
   "id": "746a64e6",
   "metadata": {},
   "outputs": [
    {
     "data": {
      "text/plain": [
       "0.6712040043665742"
      ]
     },
     "execution_count": 106,
     "metadata": {},
     "output_type": "execute_result"
    }
   ],
   "source": [
    "lm.score(X_train, y_train)\n",
    "# -> 0.7068781342155135"
   ]
  },
  {
   "cell_type": "markdown",
   "id": "fccc6d3e",
   "metadata": {},
   "source": [
    "We have found an issue with our model. It explains `70%` of the train data, but only 39% of our test data, which is more important to get right than our train data. It is fitting the train data really well, and not being able to fit the test data - which means, we have an overfitted multiple linear regression model."
   ]
  },
  {
   "cell_type": "markdown",
   "id": "371e52ce",
   "metadata": {},
   "source": [
    "There are many factors that may have contributed to this, a few of them could be:\n",
    "<ol>\n",
    "<li>Need for more data: we have only one year worth of data (and only 48 rows), which isn't that much, whereas having multiple years of data could have helped improve the prediction results quite a bit.</li>\n",
    "<li>Overcome overfitting: we can use a cross validation that will fit our model to different shuffled samples of our dataset to try to end overfitting.</li>\n",
    "<il>Assumptions that don't hold: we have made the assumption that the data had a linear relationship, but that might not be the case. Visualizing the data using boxplots, understanding the data distribution, treating the outliers, and normalizing it may help with that.</il>\n",
    "<li>Poor features: we might need other or more features that have strongest relationships with values we are trying to predict.</li>\n",
    "    </ol>"
   ]
  },
  {
   "cell_type": "markdown",
   "id": "bd2e379b",
   "metadata": {},
   "source": [
    "# GOOD LUCK!"
   ]
  }
 ],
 "metadata": {
  "kernelspec": {
   "display_name": "Python 3 (ipykernel)",
   "language": "python",
   "name": "python3"
  },
  "language_info": {
   "codemirror_mode": {
    "name": "ipython",
    "version": 3
   },
   "file_extension": ".py",
   "mimetype": "text/x-python",
   "name": "python",
   "nbconvert_exporter": "python",
   "pygments_lexer": "ipython3",
   "version": "3.11.7"
  }
 },
 "nbformat": 4,
 "nbformat_minor": 5
}
