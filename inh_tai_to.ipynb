{
 "cells": [
  {
   "cell_type": "code",
   "execution_count": 3,
   "id": "fe6ca5ad-5461-48e2-a8fb-e5ed04918178",
   "metadata": {},
   "outputs": [],
   "source": [
    "import cvxpy as cp\n",
    "import numpy as np"
   ]
  },
  {
   "cell_type": "markdown",
   "id": "a252b27c-7901-4978-9d2b-a242429c51b1",
   "metadata": {},
   "source": [
    "Here, we solve the following LPP:\n",
    "$$\\begin{matrix} \\displaystyle \\min_{x_1,\\ x_2} & z=-250000x_1-180000x_2 \\\\\n",
    "\\text{subject to } & 12x_1+9x_2 \\leq 900\\\\\n",
    "&   0\\geq x_1 \\leq 45\\\\ & 0\\geq x_2 \\leq 80\\end{matrix}$$"
   ]
  },
  {
   "cell_type": "code",
   "execution_count": 9,
   "id": "f2f98ae1-7013-40a7-b564-b47e3fc1c9ff",
   "metadata": {},
   "outputs": [
    {
     "name": "stdout",
     "output_type": "stream",
     "text": [
      "18450000.0\n",
      "[45. 40.]\n"
     ]
    }
   ],
   "source": [
    "x = cp.Variable(2)\n",
    "\n",
    "constraints = [12*x[0] + 9*x[1] <= 900, x[0]<=45, x[1]<=80, x>=0]\n",
    "objective = cp.Minimize(-250000*x[0] - 180000*x[1])\n",
    "problem = cp.Problem(objective, constraints)\n",
    "\n",
    "solution = problem.solve()\n",
    "print(np.abs(solution.round(2)))\n",
    "print(x.value.round(2))\n"
   ]
  },
  {
   "cell_type": "code",
   "execution_count": 8,
   "id": "f7f5d987-764a-413c-9d95-23c236f9b8f8",
   "metadata": {},
   "outputs": [
    {
     "name": "stdout",
     "output_type": "stream",
     "text": [
      "18450000.0\n",
      "[45. 40.]\n"
     ]
    }
   ],
   "source": [
    "x = cp.Variable(2)\n",
    "\n",
    "constraints = [12*x[0] + 9*x[1] <= 900, x[0]<=45, x[1]<=80, x>=0]\n",
    "objective = cp.Maximize(250000*x[0] + 180000*x[1])\n",
    "problem = cp.Problem(objective, constraints)\n",
    "\n",
    "solution = problem.solve()\n",
    "print(solution.round(2))\n",
    "print(x.value.round(2))"
   ]
  },
  {
   "cell_type": "markdown",
   "id": "44d4a470-7840-4cea-9ead-2078a3eb142b",
   "metadata": {},
   "source": [
    "## "
   ]
  },
  {
   "cell_type": "code",
   "execution_count": 11,
   "id": "c844262d-bb3d-4e8b-9485-f1b31a73b439",
   "metadata": {},
   "outputs": [
    {
     "name": "stdout",
     "output_type": "stream",
     "text": [
      "Collecting autograd\n",
      "  Downloading autograd-1.8.0-py3-none-any.whl.metadata (7.5 kB)\n",
      "Requirement already satisfied: numpy<3 in c:\\users\\hp\\anaconda3\\lib\\site-packages (from autograd) (2.1.3)\n",
      "Downloading autograd-1.8.0-py3-none-any.whl (51 kB)\n",
      "Installing collected packages: autograd\n",
      "Successfully installed autograd-1.8.0\n",
      "Note: you may need to restart the kernel to use updated packages.\n"
     ]
    }
   ],
   "source": [
    "pip install autograd"
   ]
  },
  {
   "cell_type": "code",
   "execution_count": 14,
   "id": "5a74f7f1-f137-414c-adcf-e7d5a2db7d2c",
   "metadata": {},
   "outputs": [],
   "source": [
    "import numpy as np\n",
    "import matplotlib.pyplot as plt\n",
    "# Ma trận A và vector b\n",
    "A = np.array([[1, 0],\n",
    "              [0, -2]])\n",
    "b = np.array([2, 4])"
   ]
  },
  {
   "cell_type": "code",
   "execution_count": 21,
   "id": "fd56356a-664c-4bc6-851a-aa5fe4b7e03d",
   "metadata": {},
   "outputs": [
    {
     "name": "stdout",
     "output_type": "stream",
     "text": [
      "\n",
      "Điểm tối ưu x* = [ 0. -2.], f* = 3.000000\n"
     ]
    }
   ],
   "source": [
    "from scipy.optimize import minimize\n",
    "res = minimize(f, x0=np.array([-3.0, 5.0]), jac=grad_f, method='BFGS')\n",
    "x_star = res.x\n",
    "f_star = res.fun\n",
    "print(f\"\\nĐiểm tối ưu x* = {x_star.round(2)}, f* = {f_star:.6f}\")"
   ]
  },
  {
   "cell_type": "code",
   "execution_count": 15,
   "id": "12bc21ec-2054-4bf6-8480-92bb13a593f1",
   "metadata": {},
   "outputs": [
    {
     "name": "stdout",
     "output_type": "stream",
     "text": [
      "\n",
      "Điểm tối ưu x* = [ 0 -2], f* = 3.000000\n"
     ]
    }
   ],
   "source": [
    "# --- Tìm giá trị tối ưu f* ---\n",
    "# Vì f(x) = e^{2x1} + 1/2[(x1-2)^2 + (-2x2-4)^2]\n",
    "# => x1* = 0 (vì e^{2x1} + 0.5(x1-2)^2 có nghiệm ~0)\n",
    "# => x2* = -2\n",
    "def f(x):\n",
    "    return np.exp(2 * x[0]) + 0.5 * np.linalg.norm(A @ x - b)**2\n",
    "    \n",
    "x_star = np.array([0, -2])\n",
    "f_star = f(x_star)\n",
    "print(f\"\\nĐiểm tối ưu x* = {x_star}, f* = {f_star:.6f}\")"
   ]
  },
  {
   "cell_type": "code",
   "execution_count": 17,
   "id": "ca8471bf-52a6-4f40-9e43-dd882696c7ce",
   "metadata": {},
   "outputs": [
    {
     "name": "stdout",
     "output_type": "stream",
     "text": [
      "\n",
      "==== Learning rate = 0.4 ====\n",
      "Lần lặp 1: x = [-1.001983 -6.2     ], f(x) = 39.920751\n",
      "Lần lặp 2: x = [0.09097051 0.52      ], f(x) = 15.722540\n",
      "Lần lặp 3: x = [-0.10505245 -3.512     ], f(x) = 7.598410\n",
      "Lần lặp 4: x = [ 0.08856916 -1.0928    ], f(x) = 4.666604\n",
      "Lần lặp 5: x = [-0.10189547 -2.54432   ], f(x) = 3.617184\n",
      "Lần lặp 6: x = [ 0.08635642 -1.673408  ], f(x) = 3.232865\n",
      "Lần lặp 7: x = [-0.09900595 -2.1959552 ], f(x) = 3.100070\n",
      "Lần lặp 8: x = [ 0.08430836 -1.88242688], f(x) = 3.046250\n",
      "Lần lặp 9: x = [-0.09634809 -2.07054387], f(x) = 3.032023\n",
      "Lần lặp 10: x = [ 0.08240514 -1.95767368], f(x) = 3.021337\n",
      "Lần lặp 11: x = [-0.09389242 -2.02539579], f(x) = 3.022276\n",
      "Lần lặp 12: x = [ 0.08063014 -1.98476252], f(x) = 3.017445\n",
      "Lần lặp 13: x = [-0.09161452 -2.00914249], f(x) = 3.020170\n",
      "Lần lặp 14: x = [ 0.07896934 -1.99451451], f(x) = 3.016334\n",
      "Lần lặp 15: x = [-0.0894939  -2.00329129], f(x) = 3.019130\n",
      "Lần lặp 16: x = [ 0.07741078 -1.99802522], f(x) = 3.015632\n",
      "Lần lặp 17: x = [-0.08751323 -2.00118487], f(x) = 3.018293\n",
      "Lần lặp 18: x = [ 0.07594421 -1.99928908], f(x) = 3.015027\n",
      "Lần lặp 19: x = [-0.08565775 -2.00042655], f(x) = 3.017540\n",
      "Lần lặp 20: x = [ 0.07456079 -1.99974407], f(x) = 3.014472\n",
      "Lần lặp 21: x = [-0.08391481 -2.00015356], f(x) = 3.016848\n",
      "Lần lặp 22: x = [ 0.07325281 -1.99990786], f(x) = 3.013959\n",
      "Lần lặp 23: x = [-0.08227347 -2.00005528], f(x) = 3.016209\n",
      "Lần lặp 24: x = [ 0.07201357 -1.99996683], f(x) = 3.013481\n",
      "Lần lặp 25: x = [-0.08072422 -2.0000199 ], f(x) = 3.015617\n",
      "Lần lặp 26: x = [ 0.07083714 -1.99998806], f(x) = 3.013036\n",
      "Lần lặp 27: x = [-0.07925875 -2.00000716], f(x) = 3.015067\n",
      "Lần lặp 28: x = [ 0.06971833 -1.9999957 ], f(x) = 3.012620\n",
      "Lần lặp 29: x = [-0.07786979 -2.00000258], f(x) = 3.014553\n",
      "Lần lặp 30: x = [ 0.06865251 -1.99999845], f(x) = 3.012230\n",
      "Lần lặp 31: x = [-0.0765509  -2.00000093], f(x) = 3.014074\n",
      "Lần lặp 32: x = [ 0.06763556 -1.99999944], f(x) = 3.011863\n",
      "Lần lặp 33: x = [-0.07529637 -2.00000033], f(x) = 3.013625\n",
      "Lần lặp 34: x = [ 0.06666382 -1.9999998 ], f(x) = 3.011519\n",
      "Lần lặp 35: x = [-0.07410115 -2.00000012], f(x) = 3.013204\n",
      "Lần lặp 36: x = [ 0.06573398 -1.99999993], f(x) = 3.011194\n",
      "Lần lặp 37: x = [-0.07296071 -2.00000004], f(x) = 3.012809\n",
      "Lần lặp 38: x = [ 0.06484308 -1.99999997], f(x) = 3.010887\n",
      "Lần lặp 39: x = [-0.07187098 -2.00000002], f(x) = 3.012436\n",
      "Lần lặp 40: x = [ 0.06398844 -1.99999999], f(x) = 3.010597\n",
      "Lần lặp 41: x = [-0.07082832 -2.00000001], f(x) = 3.012084\n",
      "Lần lặp 42: x = [ 0.06316764 -2.        ], f(x) = 3.010322\n",
      "Lần lặp 43: x = [-0.06982944 -2.        ], f(x) = 3.011752\n",
      "Lần lặp 44: x = [ 0.06237846 -2.        ], f(x) = 3.010062\n",
      "Lần lặp 45: x = [-0.06887136 -2.        ], f(x) = 3.011437\n",
      "Lần lặp 46: x = [ 0.06161891 -2.        ], f(x) = 3.009814\n",
      "Lần lặp 47: x = [-0.06795138 -2.        ], f(x) = 3.011139\n",
      "Lần lặp 48: x = [ 0.06088716 -2.        ], f(x) = 3.009578\n",
      "Lần lặp 49: x = [-0.06706704 -2.        ], f(x) = 3.010856\n",
      "Lần lặp 50: x = [ 0.06018153 -2.        ], f(x) = 3.009354\n",
      "Lần lặp 51: x = [-0.0662161 -2.       ], f(x) = 3.010587\n",
      "Lần lặp 52: x = [ 0.05950048 -2.        ], f(x) = 3.009140\n",
      "Lần lặp 53: x = [-0.06539652 -2.        ], f(x) = 3.010331\n",
      "Lần lặp 54: x = [ 0.05884261 -2.        ], f(x) = 3.008936\n",
      "Lần lặp 55: x = [-0.06460641 -2.        ], f(x) = 3.010087\n",
      "Lần lặp 56: x = [ 0.05820661 -2.        ], f(x) = 3.008741\n",
      "Lần lặp 57: x = [-0.06384405 -2.        ], f(x) = 3.009854\n",
      "Lần lặp 58: x = [ 0.05759129 -2.        ], f(x) = 3.008554\n",
      "Lần lặp 59: x = [-0.06310785 -2.        ], f(x) = 3.009632\n",
      "Lần lặp 60: x = [ 0.05699553 -2.        ], f(x) = 3.008375\n",
      "Lần lặp 61: x = [-0.06239637 -2.        ], f(x) = 3.009419\n",
      "Lần lặp 62: x = [ 0.05641831 -2.        ], f(x) = 3.008204\n",
      "Lần lặp 63: x = [-0.06170824 -2.        ], f(x) = 3.009216\n",
      "Lần lặp 64: x = [ 0.05585868 -2.        ], f(x) = 3.008040\n",
      "Lần lặp 65: x = [-0.06104221 -2.        ], f(x) = 3.009021\n",
      "Lần lặp 66: x = [ 0.05531576 -2.        ], f(x) = 3.007882\n",
      "Lần lặp 67: x = [-0.06039714 -2.        ], f(x) = 3.008834\n",
      "Lần lặp 68: x = [ 0.05478871 -2.        ], f(x) = 3.007730\n",
      "Lần lặp 69: x = [-0.05977194 -2.        ], f(x) = 3.008655\n",
      "Lần lặp 70: x = [ 0.05427678 -2.        ], f(x) = 3.007584\n",
      "Lần lặp 71: x = [-0.05916562 -2.        ], f(x) = 3.008483\n",
      "Lần lặp 72: x = [ 0.05377924 -2.        ], f(x) = 3.007444\n",
      "Lần lặp 73: x = [-0.05857724 -2.        ], f(x) = 3.008318\n",
      "Lần lặp 74: x = [ 0.05329543 -2.        ], f(x) = 3.007308\n",
      "Lần lặp 75: x = [-0.05800595 -2.        ], f(x) = 3.008159\n",
      "Lần lặp 76: x = [ 0.05282473 -2.        ], f(x) = 3.007178\n",
      "Lần lặp 77: x = [-0.05745092 -2.        ], f(x) = 3.008006\n",
      "Lần lặp 78: x = [ 0.05236653 -2.        ], f(x) = 3.007052\n",
      "Lần lặp 79: x = [-0.05691141 -2.        ], f(x) = 3.007858\n",
      "Lần lặp 80: x = [ 0.05192031 -2.        ], f(x) = 3.006931\n",
      "Lần lặp 81: x = [-0.05638671 -2.        ], f(x) = 3.007716\n",
      "Lần lặp 82: x = [ 0.05148553 -2.        ], f(x) = 3.006814\n",
      "Lần lặp 83: x = [-0.05587615 -2.        ], f(x) = 3.007579\n",
      "Lần lặp 84: x = [ 0.05106171 -2.        ], f(x) = 3.006700\n",
      "Lần lặp 85: x = [-0.0553791 -2.       ], f(x) = 3.007447\n",
      "Lần lặp 86: x = [ 0.0506484 -2.       ], f(x) = 3.006591\n",
      "Lần lặp 87: x = [-0.05489499 -2.        ], f(x) = 3.007319\n",
      "Lần lặp 88: x = [ 0.05024517 -2.        ], f(x) = 3.006485\n",
      "Lần lặp 89: x = [-0.05442327 -2.        ], f(x) = 3.007196\n",
      "Lần lặp 90: x = [ 0.0498516 -2.       ], f(x) = 3.006382\n",
      "Lần lặp 91: x = [-0.0539634 -2.       ], f(x) = 3.007076\n",
      "Lần lặp 92: x = [ 0.04946732 -2.        ], f(x) = 3.006283\n",
      "Lần lặp 93: x = [-0.05351492 -2.        ], f(x) = 3.006961\n",
      "Lần lặp 94: x = [ 0.04909196 -2.        ], f(x) = 3.006187\n",
      "Lần lặp 95: x = [-0.05307735 -2.        ], f(x) = 3.006849\n",
      "Lần lặp 96: x = [ 0.04872518 -2.        ], f(x) = 3.006093\n",
      "Lần lặp 97: x = [-0.05265026 -2.        ], f(x) = 3.006741\n",
      "Lần lặp 98: x = [ 0.04836665 -2.        ], f(x) = 3.006003\n",
      "Lần lặp 99: x = [-0.05223325 -2.        ], f(x) = 3.006636\n",
      "Lần lặp 100: x = [ 0.04801607 -2.        ], f(x) = 3.005915\n",
      "\n",
      "==== Learning rate = 0.5 ====\n",
      "Lần lặp 1: x = [-0.50247875 -9.        ], f(x) = 101.497260\n",
      "Lần lặp 2: x = [0.38270043 5.        ], f(x) = 101.457685\n",
      "Lần lặp 3: x = [-0.95850579 -9.        ], f(x) = 102.523424\n",
      "Lần lặp 4: x = [0.37370136 5.        ], f(x) = 101.433932\n",
      "Lần lặp 5: x = [-0.92465804 -9.        ], f(x) = 102.434157\n",
      "Lần lặp 6: x = [0.38032624 5.        ], f(x) = 101.451343\n",
      "Lần lặp 7: x = [-0.94950873 -9.        ], f(x) = 102.499517\n",
      "Lần lặp 8: x = [0.37552999 5.        ], f(x) = 101.438697\n",
      "Lần lặp 9: x = [-0.93148017 -9.        ], f(x) = 102.452000\n",
      "Lần lặp 10: x = [0.37904745 5.        ], f(x) = 101.447950\n",
      "Lần lặp 11: x = [-0.94468273 -9.        ], f(x) = 102.486746\n",
      "Lần lặp 12: x = [0.37649093 5.        ], f(x) = 101.441213\n",
      "Lần lặp 13: x = [-0.93507659 -9.        ], f(x) = 102.461437\n",
      "Lần lặp 14: x = [0.37836165 5.        ], f(x) = 101.446137\n",
      "Lần lặp 15: x = [-0.94210037 -9.        ], f(x) = 102.479928\n",
      "Lần lặp 16: x = [0.37699936 5.        ], f(x) = 101.442548\n",
      "Lần lặp 17: x = [-0.93698256 -9.        ], f(x) = 102.466447\n",
      "Lần lặp 18: x = [0.37799497 5.        ], f(x) = 101.445169\n",
      "Lần lặp 19: x = [-0.94072128 -9.        ], f(x) = 102.476291\n",
      "Lần lặp 20: x = [0.37726922 5.        ], f(x) = 101.443257\n",
      "Lần lặp 21: x = [-0.9379951 -9.       ], f(x) = 102.469111\n",
      "Lần lặp 22: x = [0.37779926 5.        ], f(x) = 101.444653\n",
      "Lần lặp 23: x = [-0.93998569 -9.        ], f(x) = 102.474352\n",
      "Lần lặp 24: x = [0.37741268 5.        ], f(x) = 101.443635\n",
      "Lần lặp 25: x = [-0.93853366 -9.        ], f(x) = 102.470528\n",
      "Lần lặp 26: x = [0.37769491 5.        ], f(x) = 101.444378\n",
      "Lần lặp 27: x = [-0.93959362 -9.        ], f(x) = 102.473319\n",
      "Lần lặp 28: x = [0.37748902 5.        ], f(x) = 101.443836\n",
      "Lần lặp 29: x = [-0.93882028 -9.        ], f(x) = 102.471283\n",
      "Lần lặp 30: x = [0.3776393 5.       ], f(x) = 101.444231\n",
      "Lần lặp 31: x = [-0.93938472 -9.        ], f(x) = 102.472769\n",
      "Lần lặp 32: x = [0.37752965 5.        ], f(x) = 101.443943\n",
      "Lần lặp 33: x = [-0.93897286 -9.        ], f(x) = 102.471685\n",
      "Lần lặp 34: x = [0.37760968 5.        ], f(x) = 101.444153\n",
      "Lần lặp 35: x = [-0.93927344 -9.        ], f(x) = 102.472476\n",
      "Lần lặp 36: x = [0.37755128 5.        ], f(x) = 101.444000\n",
      "Lần lặp 37: x = [-0.9390541 -9.       ], f(x) = 102.471899\n",
      "Lần lặp 38: x = [0.3775939 5.       ], f(x) = 101.444112\n",
      "Lần lặp 39: x = [-0.93921418 -9.        ], f(x) = 102.472320\n",
      "Lần lặp 40: x = [0.3775628 5.       ], f(x) = 101.444030\n",
      "Lần lặp 41: x = [-0.93909737 -9.        ], f(x) = 102.472012\n",
      "Lần lặp 42: x = [0.3775855 5.       ], f(x) = 101.444090\n",
      "Lần lặp 43: x = [-0.93918261 -9.        ], f(x) = 102.472237\n",
      "Lần lặp 44: x = [0.37756893 5.        ], f(x) = 101.444046\n",
      "Lần lặp 45: x = [-0.9391204 -9.       ], f(x) = 102.472073\n",
      "Lần lặp 46: x = [0.37758102 5.        ], f(x) = 101.444078\n",
      "Lần lặp 47: x = [-0.9391658 -9.       ], f(x) = 102.472193\n",
      "Lần lặp 48: x = [0.3775722 5.       ], f(x) = 101.444055\n",
      "Lần lặp 49: x = [-0.93913267 -9.        ], f(x) = 102.472105\n",
      "Lần lặp 50: x = [0.37757864 5.        ], f(x) = 101.444072\n",
      "Lần lặp 51: x = [-0.93915685 -9.        ], f(x) = 102.472169\n",
      "Lần lặp 52: x = [0.37757394 5.        ], f(x) = 101.444059\n",
      "Lần lặp 53: x = [-0.93913921 -9.        ], f(x) = 102.472123\n",
      "Lần lặp 54: x = [0.37757737 5.        ], f(x) = 101.444068\n",
      "Lần lặp 55: x = [-0.93915208 -9.        ], f(x) = 102.472157\n",
      "Lần lặp 56: x = [0.37757487 5.        ], f(x) = 101.444062\n",
      "Lần lặp 57: x = [-0.93914269 -9.        ], f(x) = 102.472132\n",
      "Lần lặp 58: x = [0.37757669 5.        ], f(x) = 101.444067\n",
      "Lần lặp 59: x = [-0.93914954 -9.        ], f(x) = 102.472150\n",
      "Lần lặp 60: x = [0.37757536 5.        ], f(x) = 101.444063\n",
      "Lần lặp 61: x = [-0.93914454 -9.        ], f(x) = 102.472137\n",
      "Lần lặp 62: x = [0.37757633 5.        ], f(x) = 101.444066\n",
      "Lần lặp 63: x = [-0.93914819 -9.        ], f(x) = 102.472146\n",
      "Lần lặp 64: x = [0.37757562 5.        ], f(x) = 101.444064\n",
      "Lần lặp 65: x = [-0.93914553 -9.        ], f(x) = 102.472139\n",
      "Lần lặp 66: x = [0.37757614 5.        ], f(x) = 101.444065\n",
      "Lần lặp 67: x = [-0.93914747 -9.        ], f(x) = 102.472144\n",
      "Lần lặp 68: x = [0.37757576 5.        ], f(x) = 101.444064\n",
      "Lần lặp 69: x = [-0.93914605 -9.        ], f(x) = 102.472141\n",
      "Lần lặp 70: x = [0.37757604 5.        ], f(x) = 101.444065\n",
      "Lần lặp 71: x = [-0.93914709 -9.        ], f(x) = 102.472143\n",
      "Lần lặp 72: x = [0.37757584 5.        ], f(x) = 101.444064\n",
      "Lần lặp 73: x = [-0.93914633 -9.        ], f(x) = 102.472141\n",
      "Lần lặp 74: x = [0.37757598 5.        ], f(x) = 101.444065\n",
      "Lần lặp 75: x = [-0.93914688 -9.        ], f(x) = 102.472143\n",
      "Lần lặp 76: x = [0.37757588 5.        ], f(x) = 101.444064\n",
      "Lần lặp 77: x = [-0.93914648 -9.        ], f(x) = 102.472142\n",
      "Lần lặp 78: x = [0.37757595 5.        ], f(x) = 101.444065\n",
      "Lần lặp 79: x = [-0.93914677 -9.        ], f(x) = 102.472143\n",
      "Lần lặp 80: x = [0.3775759 5.       ], f(x) = 101.444064\n",
      "Lần lặp 81: x = [-0.93914656 -9.        ], f(x) = 102.472142\n",
      "Lần lặp 82: x = [0.37757594 5.        ], f(x) = 101.444065\n",
      "Lần lặp 83: x = [-0.93914672 -9.        ], f(x) = 102.472142\n",
      "Lần lặp 84: x = [0.37757591 5.        ], f(x) = 101.444065\n",
      "Lần lặp 85: x = [-0.9391466 -9.       ], f(x) = 102.472142\n",
      "Lần lặp 86: x = [0.37757593 5.        ], f(x) = 101.444065\n",
      "Lần lặp 87: x = [-0.93914668 -9.        ], f(x) = 102.472142\n",
      "Lần lặp 88: x = [0.37757591 5.        ], f(x) = 101.444065\n",
      "Lần lặp 89: x = [-0.93914662 -9.        ], f(x) = 102.472142\n",
      "Lần lặp 90: x = [0.37757593 5.        ], f(x) = 101.444065\n",
      "Lần lặp 91: x = [-0.93914667 -9.        ], f(x) = 102.472142\n",
      "Lần lặp 92: x = [0.37757592 5.        ], f(x) = 101.444065\n",
      "Lần lặp 93: x = [-0.93914664 -9.        ], f(x) = 102.472142\n",
      "Lần lặp 94: x = [0.37757592 5.        ], f(x) = 101.444065\n",
      "Lần lặp 95: x = [-0.93914666 -9.        ], f(x) = 102.472142\n",
      "Lần lặp 96: x = [0.37757592 5.        ], f(x) = 101.444065\n",
      "Lần lặp 97: x = [-0.93914664 -9.        ], f(x) = 102.472142\n",
      "Lần lặp 98: x = [0.37757592 5.        ], f(x) = 101.444065\n",
      "Lần lặp 99: x = [-0.93914666 -9.        ], f(x) = 102.472142\n",
      "Lần lặp 100: x = [0.37757592 5.        ], f(x) = 101.444065\n"
     ]
    }
   ],
   "source": [
    "import autograd.numpy as np\n",
    "from autograd import grad\n",
    "# Gradient của f(x)\n",
    "grad_f = grad(f) \n",
    "    \n",
    "# Gradient descent\n",
    "def gradient_descent(learning_rate, max_iter, x0):\n",
    "    x = x0.copy()\n",
    "    x_values = [x.copy()]\n",
    "    f_values = [f(x)]\n",
    "    \n",
    "    for k in range(max_iter):\n",
    "        g = grad_f(x)\n",
    "        x = x - learning_rate * g\n",
    "        x_values.append(x.copy())\n",
    "        f_values.append(f(x))\n",
    "        print(f\"Lần lặp {k+1}: x = {x}, f(x) = {f(x):.6f}\")\n",
    "    return x_values, f_values\n",
    "\n",
    "# --- Khởi tạo ---\n",
    "x0 = np.array([-3.0, 5.0])\n",
    "max_iter = 100\n",
    "learning_rates = [2/5, 1/2]\n",
    "\n",
    "# --- Chạy cho từng learning rate ---\n",
    "results = {}\n",
    "for lr in learning_rates:\n",
    "    print(f\"\\n==== Learning rate = {lr} ====\")\n",
    "    x_vals, f_vals = gradient_descent(lr, max_iter, x0)\n",
    "    results[lr] = (x_vals, f_vals)"
   ]
  },
  {
   "cell_type": "code",
   "execution_count": 22,
   "id": "72a22e0b-9ee7-4c6c-a905-a06cd34320e2",
   "metadata": {},
   "outputs": [
    {
     "data": {
      "image/png": "[encoded data removed]",
      "text/plain": [
       "<Figure size 1000x500 with 1 Axes>"
      ]
     },
     "metadata": {},
     "output_type": "display_data"
    }
   ],
   "source": [
    "plt.figure(figsize=(10,5))\n",
    "for lr in learning_rates:\n",
    "    errors = np.abs(results[lr][1] - f_star)\n",
    "    plt.plot(errors, marker='o', label=f'lr = {lr}')\n",
    "plt.title(\"Sai số hội tụ |f(x^(k)) - f*| theo số vòng lặp (autograd + scipy)\")\n",
    "plt.xlabel(\"Số vòng lặp (k)\")\n",
    "plt.ylabel(\"Sai số\")\n",
    "plt.yscale(\"log\")\n",
    "plt.legend()\n",
    "plt.grid(True)\n",
    "plt.show()"
   ]
  },
  {
   "cell_type": "markdown",
   "id": "29ab144d-4e7b-4f96-976b-3e88b1e7028b",
   "metadata": {},
   "source": [
    "LR = 0.4\n",
    "Đánh giá: hội tụ chậm và nhấp nhô (oscillatory) về phía nghiệm. x₂ tiến về −2, x₁ cũng tiến về 0 nhưng vẫn chưa đến gần f*=1 sau 100 vòng.  \n",
    "LR = 0.5  \n",
    "Kết quả sau 100 vòng: chu kỳ dao động (không hội tụ ổn định). Ví dụ các giá trị đầu vài vòng là:\n",
    "Kết luận: x₂ nhảy lặp lại giữa hai giá trị (5 và −9) → không hội tụ.\n",
    "Giá trị hàm dao động lớn, ở khoảng ~100 (không tiến về 1)."
   ]
  },
  {
   "cell_type": "markdown",
   "id": "840644e7-6cd7-4e64-a6a6-e153fdd7fcb2",
   "metadata": {},
   "source": [
    "## "
   ]
  },
  {
   "cell_type": "markdown",
   "id": "25ee5f3b-6105-4da4-bb8f-814601acaaa7",
   "metadata": {},
   "source": [
    "\\\n",
    "\\begin{matrix}\n",
    "\\displaystyle \\min_{x \\in \\mathbb{R}^n} & f(x) = c^T x - \\sum_{i=1}^m \\log(b_i - a_i^T x)\n",
    "\\end{matrix}\n",
    "\n",
    "1. Tính \\( \\nabla f(x) \\)\n",
    "2. Tính \\( \\nabla^2 f(x) \\)\n",
    "3. Chứng minh rằng \\( f \\) là hàm lồi trên tập xác định của nó.\n"
   ]
  },
  {
   "cell_type": "markdown",
   "id": "74e1a17a-6ab9-49c5-89b3-ad29f42aab0a",
   "metadata": {},
   "source": [
    "\n",
    "\n",
    "**Bước 1.**  \n",
    "Tập xác định của \\( f \\) là:\n",
    "$$\n",
    "D = \\{x \\in \\mathbb{R}^n \\mid a_i^T x < b_i, \\ \\forall i = 1, 2, \\ldots, m\\}\n",
    "$$\n",
    "\n",
    "**Bước 2. Gradient:**\n",
    "$$\n",
    "\\nabla f(x) = c - \\sum_{i=1}^m \\frac{a_i}{b_i - a_i^T x}\n",
    "$$\n",
    "\n",
    "**Bước 3. Hessian:**\n",
    "$$\n",
    "\\nabla^2 f(x) = \\sum_{i=1}^m \\frac{a_i a_i^T}{(b_i - a_i^T x)^2}\n",
    "$$\n",
    "\n",
    "**Bước 4. Tính chất lồi:**\n",
    "\n",
    "Vì mỗi hạng tử trong tổng\n",
    "$$\n",
    "\\frac{a_i a_i^T}{(b_i - a_i^T x)^2}\n",
    "$$\n",
    "là **ma trận xác định dương bán phần**, nên tổng của chúng cũng là xác định dương bán phần.\n",
    "\n",
    "Do đó:\n",
    "$$\n",
    "\\nabla^2 f(x) \\succeq 0 \\quad \\forall x \\in D\n",
    "$$\n",
    "\n",
    "⟹ \\( f(x) \\) là **hàm lồi** trên tập xác định \\( D \\).|"
   ]
  },
  {
   "cell_type": "code",
   "execution_count": 50,
   "id": "333aa816-e444-49f3-9464-aba715add87b",
   "metadata": {},
   "outputs": [],
   "source": [
    "# ======== (1) DỮ LIỆU BÀI TOÁN ========\n",
    "A = np.array([\n",
    "    [0, -2, -1, -2],\n",
    "    [1, -1,  3,  0],\n",
    "    [1, -1,  2, -5]\n",
    "])\n",
    "b = np.array([3, -1, 3, 2])\n",
    "c = np.array([4, 11/4, 13/4])\n"
   ]
  },
  {
   "cell_type": "code",
   "execution_count": 51,
   "id": "82d823bd-e32a-4f56-90bb-ba19301fe8da",
   "metadata": {},
   "outputs": [
    {
     "name": "stdout",
     "output_type": "stream",
     "text": [
      "Điểm tối ưu x* = [-1.37160486e+11 -2.10027000e+11 -9.00115737e+10]\n",
      "Giá trị tối ưu p* = -1418753806617.13\n"
     ]
    },
    {
     "data": {
      "image/png": "[encoded data removed]",
      "text/plain": [
       "<Figure size 600x400 with 1 Axes>"
      ]
     },
     "metadata": {},
     "output_type": "display_data"
    }
   ],
   "source": [
    "import numpy as np\n",
    "import matplotlib.pyplot as plt\n",
    "from scipy.optimize import minimize_scalar, minimize\n",
    "\n",
    "\n",
    "# ===== Hàm f(x), ∇f(x) =====\n",
    "def f(x):\n",
    "    value = c[0]*x[0] + c[1]*x[1] + c[2]*x[2]\n",
    "    for i in range(4):  # m = 4\n",
    "        ai = A[:, i]\n",
    "        val = b[i] - np.dot(ai, x)\n",
    "        if val > 0:\n",
    "            value -= np.log(val)\n",
    "        else:\n",
    "            value -= 0  # bỏ qua nếu log âm hoặc 0\n",
    "    return value\n",
    "\n",
    "def grad_f(x):\n",
    "    grad = np.copy(c)\n",
    "    for i in range(4):\n",
    "        ai = A[:, i]\n",
    "        val = b[i] - np.dot(ai, x)\n",
    "        if val > 0:\n",
    "            grad += ai / val\n",
    "        # nếu val <= 0 thì bỏ qua (vì đạo hàm không xác định)\n",
    "    return grad\n",
    "# ===== Tìm x* và p* =====\n",
    "x0 = np.zeros(3)\n",
    "res = minimize(f, x0, method='BFGS')\n",
    "x_star = res.x\n",
    "p_star = f(x_star)\n",
    "\n",
    "print(\"Điểm tối ưu x* =\", x_star.round(2))\n",
    "print(\"Giá trị tối ưu p* =\", p_star.round(2))\n",
    "\n",
    "# ===== Gradient Descent với Exact Line Search =====\n",
    "def exact_line_search(x, grad):\n",
    "    func = lambda alpha: f(x - alpha * grad)\n",
    "    result = minimize_scalar(func, bounds=(0, 1), method='bounded')\n",
    "    return result.x\n",
    "\n",
    "x = np.array([-1, 1, 0], dtype=float)\n",
    "max_iter = 50\n",
    "errors = []\n",
    "\n",
    "for k in range(max_iter):\n",
    "    grad = grad_f(x)\n",
    "    alpha = exact_line_search(x, grad)\n",
    "    x = x - alpha * grad\n",
    "    errors.append(abs(f(x) - p_star))\n",
    "\n",
    "# ===== Vẽ đồ thị sai số =====\n",
    "plt.figure(figsize=(6,4))\n",
    "plt.semilogy(range(len(errors)), errors, 'o-', label='err_k = |f(x^k) - p*|')\n",
    "plt.xlabel('Số lần lặp k')\n",
    "plt.ylabel('Sai số (log scale)')\n",
    "plt.title('Gradient Descent với Exact Line Search')\n",
    "plt.legend()\n",
    "plt.grid(True)\n",
    "plt.show()\n"
   ]
  },
  {
   "cell_type": "code",
   "execution_count": null,
   "id": "b9876743-2f6c-43a8-ad0b-624594d109b2",
   "metadata": {},
   "outputs": [],
   "source": []
  }
 ],
 "metadata": {
  "kernelspec": {
   "display_name": "Python 3 (ipykernel)",
   "language": "python",
   "name": "python3"
  },
  "language_info": {
   "codemirror_mode": {
    "name": "ipython",
    "version": 3
   },
   "file_extension": ".py",
   "mimetype": "text/x-python",
   "name": "python",
   "nbconvert_exporter": "python",
   "pygments_lexer": "ipython3",
   "version": "3.13.5"
  }
 },
 "nbformat": 4,
 "nbformat_minor": 5
}
