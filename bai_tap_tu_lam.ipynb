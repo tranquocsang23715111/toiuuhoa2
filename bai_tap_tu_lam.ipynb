{
 "cells": [
  {
   "cell_type": "markdown",
   "metadata": {},
   "source": [
    "# BÀI TẬP TỰ LÀM: GRADIENT DESCENT\n",
    "\n",
    "## 🎯 Mục tiêu\n",
    "- Tự triển khai thuật toán Gradient Descent từ đầu\n",
    "- Thử nghiệm với các hàm số khác nhau\n",
    "- Phân tích và so sánh kết quả\n",
    "- Rút ra kết luận về hiệu quả của thuật toán\n",
    "\n",
    "## ⏰ Thời gian: 60 phút\n",
    "## 📊 Điểm: 10 điểm\n",
    "\n",
    "---\n",
    "\n",
    "## 📋 Hướng dẫn nộp bài\n",
    "1. Hoàn thành tất cả các TODO trong notebook này\n",
    "2. Chạy tất cả các cell và đảm bảo không có lỗi\n",
    "3. Trả lời các câu hỏi ở cuối bài\n",
    "4. Lưu file với tên: `HoTen_MSSV_GradientDescent.ipynb`\n",
    "\n",
    "---\n"
   ]
  },
  {
   "cell_type": "markdown",
   "metadata": {},
   "source": [
    "## Phần 1: Cài đặt và Import thư viện (1 điểm)\n",
    "\n",
    "**TODO 1.1:** Cài đặt và import các thư viện cần thiết\n"
   ]
  },
  {
   "cell_type": "code",
   "execution_count": 2,
   "metadata": {},
   "outputs": [],
   "source": [
    "# TODO 1.1: Import các thư viện cần thiết\n",
    "# Gợi ý: numpy, matplotlib.pyplot, seaborn (tùy chọn)\n",
    "\n",
    "# Viết code của bạn ở đây:\n",
    "import numpy as no\n",
    "import pandas as pd\n",
    "import matplotlib.pyplot as plt\n",
    "import seaborn as sns\n",
    "\n",
    "\n",
    "\n",
    "# Cấu hình matplotlib để vẽ đồ thị đẹp hơn\n",
    "# TODO: Thiết lập figure size và font size phù hợp\n"
   ]
  },
  {
   "cell_type": "markdown",
   "metadata": {},
   "source": [
    "## Phần 2: Triển khai Gradient Descent cơ bản (3 điểm)\n",
    "\n",
    "**TODO 2.1:** Triển khai hàm số và đạo hàm\n"
   ]
  },
  {
   "cell_type": "code",
   "execution_count": 13,
   "metadata": {},
   "outputs": [
    {
     "name": "stdout",
     "output_type": "stream",
     "text": [
      "Test hàm số:\n",
      "f(0) = 7 (kết quả đúng: 7)\n",
      "f(2) = 3 (kết quả đúng: 3)\n",
      "df_dx(0) = -4 (kết quả đúng: -4)\n",
      "df_dx(2) = 0 (kết quả đúng: 0)\n"
     ]
    }
   ],
   "source": [
    "# TODO 2.1: Định nghĩa hàm số f(x) = x^2 - 4x + 7\n",
    "def f(x):\n",
    "    \"\"\"\n",
    "    Hàm số f(x) = x^2 - 4x + 7\n",
    "    \n",
    "    Args:\n",
    "        x: Giá trị đầu vào\n",
    "    \n",
    "    Returns:\n",
    "        Giá trị của hàm số tại x\n",
    "    \"\"\"\n",
    "    \n",
    "    return x**2 -4*x +7\n",
    "\n",
    "# TODO 2.2: Tính đạo hàm f'(x) = 2x - 4\n",
    "def df_dx(x):\n",
    "    \"\"\"\n",
    "    Đạo hàm của f(x)\n",
    "    \n",
    "    Args:\n",
    "        x: Giá trị đầu vào\n",
    "    \n",
    "    Returns:\n",
    "        Giá trị đạo hàm tại x\n",
    "    \"\"\"\n",
    "    # Viết code của bạn ở đây:\n",
    "    return 2*x -4\n",
    "\n",
    "# Test hàm số (không cần sửa)\n",
    "print(\"Test hàm số:\")\n",
    "print(f\"f(0) = {f(0)} (kết quả đúng: 7)\")\n",
    "print(f\"f(2) = {f(2)} (kết quả đúng: 3)\")\n",
    "print(f\"df_dx(0) = {df_dx(0)} (kết quả đúng: -4)\")\n",
    "print(f\"df_dx(2) = {df_dx(2)} (kết quả đúng: 0)\")\n"
   ]
  },
  {
   "cell_type": "markdown",
   "metadata": {},
   "source": [
    "**TODO 2.3:** Triển khai thuật toán Gradient Descent\n"
   ]
  },
  {
   "cell_type": "code",
   "execution_count": 19,
   "metadata": {},
   "outputs": [],
   "source": [
    "# TODO 2.3: Triển khai thuật toán Gradient Descent\n",
    "def gradient_descent(func, grad_func, x_start, learning_rate, max_iterations, tolerance=1e-6):\n",
    "    \"\"\"\n",
    "    Thuật toán Gradient Descent\n",
    "    \n",
    "    Args:\n",
    "        func: Hàm mục tiêu cần tối ưu\n",
    "        grad_func: Hàm tính gradient (đạo hàm)\n",
    "        x_start: Điểm khởi tạo\n",
    "        learning_rate: Tốc độ học (alpha)\n",
    "        max_iterations: Số vòng lặp tối đa\n",
    "        tolerance: Ngưỡng dừng (khi gradient đủ nhỏ)\n",
    "    \n",
    "    Returns:\n",
    "        dict: {\n",
    "            'x_history': danh sách các điểm x qua các iteration,\n",
    "            'f_history': danh sách giá trị hàm số,\n",
    "            'gradient_history': danh sách gradient,\n",
    "            'converged': True nếu hội tụ, False nếu không\n",
    "        }\n",
    "    \"\"\"\n",
    "    \n",
    "    # Khởi tạo\n",
    "    x = x_start\n",
    "    x_history = [x]\n",
    "    f_history = [func(x)]\n",
    "    gradient_history = [grad_func(x)]\n",
    "    \n",
    "    # TODO: Viết vòng lặp gradient descent\n",
    "    for i in range(max_iterations):\n",
    "        # Bước 1: Tính gradient tại điểm hiện tại\n",
    "        gradient = grad_func(x)\n",
    "        \n",
    "        # Bước 2: Kiểm tra điều kiện dừng\n",
    "        if abs(gradient) < tolerance:\n",
    "            print(f\"Hội tụ sau {i+1} iterations\")\n",
    "            return {\n",
    "                'x_history': x_history,\n",
    "                'f_history': f_history,\n",
    "                'gradient_history': gradient_history,\n",
    "                'converged': True\n",
    "            }\n",
    "        \n",
    "        # Bước 3: Cập nhật x theo công thức gradient descent\n",
    "        x =x - learning_rate * gradient\n",
    "        \n",
    "        # Bước 4: Lưu lịch sử\n",
    "        x_history.append(x)\n",
    "        f_history.append(func(x))\n",
    "        gradient_history.append(gradient)\n",
    "    \n",
    "    print(f\"Không hội tụ sau {max_iterations} iterations\")\n",
    "    return {\n",
    "        'x_history': x_history,\n",
    "        'f_history': f_history,\n",
    "        'gradient_history': gradient_history,\n",
    "        'converged': False\n",
    "    }\n"
   ]
  },
  {
   "cell_type": "markdown",
   "metadata": {},
   "source": []
  },
  {
   "cell_type": "code",
   "execution_count": 26,
   "metadata": {},
   "outputs": [
    {
     "name": "stdout",
     "output_type": "stream",
     "text": [
      "Hội tụ sau 84 iterations\n",
      "Điểm hội tụ: 2.000000434220335\n",
      "Giá trị nhỏ nhất: 3.0000000000001883\n"
     ]
    }
   ],
   "source": [
    "\n",
    "\n",
    "\n",
    "result = gradient_descent(f, df_dx, x_start=50, learning_rate=0.1, max_iterations=1000)\n",
    "\n",
    "print(\"Điểm hội tụ:\", result['x_history'][-1])\n",
    "print(\"Giá trị nhỏ nhất:\", result['f_history'][-1])\n"
   ]
  },
  {
   "cell_type": "code",
   "execution_count": null,
   "metadata": {},
   "outputs": [],
   "source": []
  }
 ],
 "metadata": {
  "kernelspec": {
   "display_name": "Python 3 (ipykernel)",
   "language": "python",
   "name": "python3"
  },
  "language_info": {
   "codemirror_mode": {
    "name": "ipython",
    "version": 3
   },
   "file_extension": ".py",
   "mimetype": "text/x-python",
   "name": "python",
   "nbconvert_exporter": "python",
   "pygments_lexer": "ipython3",
   "version": "3.11.7"
  }
 },
 "nbformat": 4,
 "nbformat_minor": 4
}
